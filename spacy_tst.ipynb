{
 "cells": [
  {
   "cell_type": "code",
   "execution_count": 90,
   "id": "a68e1889",
   "metadata": {},
   "outputs": [],
   "source": [
    "text = '''The Group competes in the gifting market (the “ gifting market ”), which is large, evolving and highly competitive and includes the sale of greeting cards and\n",
    "gifts. The Group faces significant competition from a wide range of companies, ranging from traditional brick and mortar competitors that serve the offline\n",
    "channel to other online gifting companies. The Group’s offline competitors include specialist greeting cards, supermarkets and other retailers, generalists,\n",
    "stationers, discount chains and florists. The Group also competes with online greeting card companies; online flower specialists; and online gift specialists.\n",
    "Some of the Group’s competitors, particularly supermarkets, general merchandise discounters and stationery retailers, may have larger and broader\n",
    "customer bases, wider distribution channels, substantially greater financial, technical or marketing resources, stronger brand or name recognition or a lower\n",
    "cost base than the Group. Some of the Group’s competitors may have greater research and development resources and be able to adapt to changes in\n",
    "customer requirements, customer preferences or attitudes toward design content and gifting products faster, launch innovative products more quickly, more\n",
    "readily take advantage of acquisitions and other opportunities, or have more established relationships with third-party suppliers, which could result in the\n",
    "Group not being able to compete as effectively and lose its market position. The Group’s competitors may also aggressively discount their products in order\n",
    "to gain market share, which could result in pricing pressures, reduced profit margins, lost market share, or a failure to grow market share for the Group.\n",
    "Within each of the UK and the Netherlands, the Group has benefited from its strong positions in the gifting market, but competition could intensify as\n",
    "traditional retailers expand their digital, online and app-based sales capabilities and potential new competitors enter the gifting market. The Group could\n",
    "face an increase in online competition as a result of competitors prioritising investments in new or improved online platforms to deal with disruptions faced\n",
    "as a result of the novel strain of coronavirus causing Covid-19 disease (“ Covid-19 ”) and the expected continued shift to online purchasing, which may\n",
    "make it more difficult for the Group to maintain its market share. The Group competes, and could increasingly compete in the future, with alternatives or\n",
    "substitutes to the Group’s products, whether that is the increasing use of electronic gift cards as substitutes for physical gifts, social media or other\n",
    "companies that host and enable the posting of greetings, images, electronic or other gifts, e-cards or other innovations and developments. In addition, the\n",
    "Group competes and may increasingly compete in the future with alternative business models that serve the gifting markets, including greeting card\n",
    "subscription services, flower subscription services, or apps or websites that provide free products (only charging for any up-sells of attachments to the free\n",
    "base product) that compete or may serve as a substitute to the Group’s gifting products. If such alternative communications media or substitutions for the\n",
    "Group’s products appeal more to the Group’s existing customers or potential customers and the Group fails to innovate its product offering in a manner that\n",
    "continues to be attractive to its customers or enables the Group to maintain its existing margins, the Group may be unable to compete effectively. If the\n",
    "Group is not able to compete effectively against its current or potential competitors, this could have a material adverse effect on the Group’s business,\n",
    "results of operations, financial condition or prospects.'''"
   ]
  },
  {
   "cell_type": "code",
   "execution_count": 77,
   "id": "6807d4ef",
   "metadata": {},
   "outputs": [],
   "source": [
    "text = '''The Group’s success depends on its ability to retain and engage existing customers and attract new customers. Factors that could influence such an ability\n",
    "include: • technical or other problems preventing the Group from delivering its products in a timely and reliable manner or otherwise negatively affecting the\n",
    "customer experience; • any unavailability or delay to customers of the Group’s products, including products sourced from third parties or shipped by third\n",
    "parties which may arise due to factors outside the Group’s control due to changes in the service level agreements or the reliability of services provided by\n",
    "regulated postal services on which the Group must rely; • any pricing changes for the Group’s products are negatively received or the pricing of the Group’s\n",
    "competitors change; • ineffective marketing or brand promotion campaigns by the Group or effective marketing or brand promotion campaigns by the\n",
    "Group’s competitors; • security breaches leading to the Group’s loss of confidential customer or employee information; • negative publicity surrounding the\n",
    "Group, its brands or its products for any reason, including that resulting from negative online reviews or unfavourable press coverage; • a perception that\n",
    "the Group acts in an irresponsible manner, including with respect to its environmental, social or corporate responsibility; or • if there are adverse changes\n",
    "that are mandated by legislation, regulatory authorities or litigation that impacts the Group’s ability to market its products to customers. If the Group is\n",
    "unable to continue to offer gifts that are attractive to its customers, to obtain such products at costs that allow it to sell such products at a profit or to market\n",
    "such products effectively to customers, the Group may have a difficult time attracting new customers or retaining existing customers, and its sales or\n",
    "profitability could be affected adversely. The success of the Group’s business depends in part on its ability to anticipate, identify and respond promptly to\n",
    "evolving trends in demographics and customer preferences, expectations and needs, so that it can continue to attract and retain customers. The Group’s\n",
    "product offering is influenced in part by how it views these preferences, expectations and needs. If the Group is unable to respond quickly to developing\n",
    "trends or if the spending patterns or demographics of these markets change, and the Group does not respond in a timely or appropriate manner to such\n",
    "changes, the demand for its products and its market share could decline. Such a decline could have a material adverse effect on the Group’s business,\n",
    "results of operations, financial condition or prospects. The Group benefits from current cultural practices surrounding the giving of cards in Anglo-Saxon\n",
    "and Dutch societies. While the single card market has been broadly stable in both countries (for instance OC&C estimates that from 2016 to 2019 the UK\n",
    "market declined by 0.3% compound annual growth rate (“ CAGR ”) in volume terms and grew by 0.5% CAGR in value), cultural norms could evolve or\n",
    "change. A satisfied and loyal customer base is crucial to the Group’s continued growth, both for continued engagement and retention of existing customers\n",
    "as well as through promoting the Group to attract new customers. Because the Group does not have the direct face-to-face contact with customers that\n",
    "comes from offline retail, the way the Group directly interacts with customers through its platform is important to maintaining continuous customer\n",
    "relationships. For example, if customer ratings of the Group’s products were to decline as reflected by lower NPS or app ratings, such negative customer\n",
    "experiences could adversely affect the business. The Group relies on a variety of tools on its platform, including reminders of birthdays and other events to\n",
    "prompt repeat engagement and purchases with prior customers, as well as customer relationship management strategies. Any actual or perceived failures\n",
    "by the Group’s platform or customer relationship management strategies for customer engagement could negatively affect customer satisfaction,\n",
    "engagement, loyalty or retention. Accordingly, any inability by the Group to retain customers or attract new customers could have a material adverse effect\n",
    "on the Group’s business, results of operations, financial condition or prospects.'''"
   ]
  },
  {
   "cell_type": "code",
   "execution_count": 1,
   "id": "f96469c2",
   "metadata": {},
   "outputs": [
    {
     "ename": "AttributeError",
     "evalue": "partially initialized module 'spacy' has no attribute 'load' (most likely due to a circular import)",
     "output_type": "error",
     "traceback": [
      "\u001b[0;31m---------------------------------------------------------------------------\u001b[0m",
      "\u001b[0;31mAttributeError\u001b[0m                            Traceback (most recent call last)",
      "\u001b[0;32m/tmp/ipykernel_223689/442421249.py\u001b[0m in \u001b[0;36m<module>\u001b[0;34m\u001b[0m\n\u001b[1;32m      1\u001b[0m \u001b[0;32mimport\u001b[0m \u001b[0mre\u001b[0m\u001b[0;34m\u001b[0m\u001b[0;34m\u001b[0m\u001b[0m\n\u001b[0;32m----> 2\u001b[0;31m \u001b[0;32mimport\u001b[0m \u001b[0mspacy\u001b[0m\u001b[0;34m\u001b[0m\u001b[0;34m\u001b[0m\u001b[0m\n\u001b[0m",
      "\u001b[0;32m~/projects/10be5/code/spacy.py\u001b[0m in \u001b[0;36m<module>\u001b[0;34m\u001b[0m\n\u001b[1;32m     76\u001b[0m \u001b[0;34m\u001b[0m\u001b[0m\n\u001b[1;32m     77\u001b[0m \u001b[0;34m\u001b[0m\u001b[0m\n\u001b[0;32m---> 78\u001b[0;31m \u001b[0mnlp\u001b[0m \u001b[0;34m=\u001b[0m \u001b[0mspacy\u001b[0m\u001b[0;34m.\u001b[0m\u001b[0mload\u001b[0m\u001b[0;34m(\u001b[0m\u001b[0;34m\"en_core_web_sm\"\u001b[0m\u001b[0;34m)\u001b[0m\u001b[0;31m#, disable=['tagger','ner','parser'])\u001b[0m\u001b[0;34m\u001b[0m\u001b[0;34m\u001b[0m\u001b[0m\n\u001b[0m\u001b[1;32m     79\u001b[0m \u001b[0;31m#nlp.max_length=2e6\u001b[0m\u001b[0;34m\u001b[0m\u001b[0;34m\u001b[0m\u001b[0;34m\u001b[0m\u001b[0m\n\u001b[1;32m     80\u001b[0m \u001b[0;31m#nlp.add_pipe('sentencizer')\u001b[0m\u001b[0;34m\u001b[0m\u001b[0;34m\u001b[0m\u001b[0;34m\u001b[0m\u001b[0m\n",
      "\u001b[0;31mAttributeError\u001b[0m: partially initialized module 'spacy' has no attribute 'load' (most likely due to a circular import)"
     ]
    }
   ],
   "source": [
    "import re\n",
    "import spacy"
   ]
  },
  {
   "cell_type": "code",
   "execution_count": 91,
   "id": "e4232adc",
   "metadata": {},
   "outputs": [],
   "source": [
    "nlp = spacy.load(\"en_core_web_sm\")#, disable=['tagger','ner','parser'])\n",
    "#nlp.max_length=2e6\n",
    "#nlp.add_pipe('sentencizer')"
   ]
  },
  {
   "cell_type": "code",
   "execution_count": 92,
   "id": "487950ef",
   "metadata": {},
   "outputs": [],
   "source": [
    "doc = nlp(re.sub(r'\\n',' ',text))"
   ]
  },
  {
   "cell_type": "code",
   "execution_count": 11,
   "id": "af1f07c4",
   "metadata": {},
   "outputs": [],
   "source": [
    "def rule3(text):\n",
    "    doc = nlp(text)\n",
    "    sent = []\n",
    "    for token in doc:\n",
    "        # look for prepositions\n",
    "        if token.pos_=='ADP':\n",
    "            phrase = ''\n",
    "            # if its head word is a noun\n",
    "            if token.head.pos_=='NOUN':\n",
    "                # append noun and preposition to phrase\n",
    "                phrase += token.head.text\n",
    "                phrase += ' '+token.text\n",
    "                # check the nodes to the right of the preposition\n",
    "                for right_tok in token.rights:\n",
    "                    # append if it is a noun or proper noun\n",
    "                    if (right_tok.pos_ in ['NOUN','PROPN']):\n",
    "                        phrase += ' '+right_tok.text\n",
    "                if len(phrase)>3:\n",
    "                    sent.append(phrase)\n",
    "    return sent"
   ]
  },
  {
   "cell_type": "code",
   "execution_count": 12,
   "id": "5040958a",
   "metadata": {},
   "outputs": [
    {
     "data": {
      "text/plain": [
       "['sale of cards',\n",
       " 'range of companies',\n",
       " 'base than Group',\n",
       " 'changes in requirements',\n",
       " 'preferences toward content',\n",
       " 'relationships with suppliers',\n",
       " 'share for Group',\n",
       " 'positions in market',\n",
       " 'increase in competition',\n",
       " 'result of',\n",
       " 'result of strain',\n",
       " 'strain of coronavirus',\n",
       " 'shift to purchasing',\n",
       " 'alternatives to products',\n",
       " 'use of cards',\n",
       " 'use as substitutes',\n",
       " 'substitutes for gifts',\n",
       " 'posting of greetings',\n",
       " 'competes In addition',\n",
       " 'sells of attachments',\n",
       " 'sells to product',\n",
       " 'substitute to products',\n",
       " 'media for products',\n",
       " 'effect on business',\n",
       " 'results of operations']"
      ]
     },
     "execution_count": 12,
     "metadata": {},
     "output_type": "execute_result"
    }
   ],
   "source": [
    "rule3(doc)"
   ]
  },
  {
   "cell_type": "code",
   "execution_count": 41,
   "id": "1e2ea251",
   "metadata": {},
   "outputs": [],
   "source": [
    "# Abstractive summarization (extremely short version - will require longer version in practice)\n",
    "# https://github.com/kamal2230/text-summarization/blob/master/Summarisation_using_spaCy.ipynb"
   ]
  },
  {
   "cell_type": "code",
   "execution_count": 93,
   "id": "81db23ff",
   "metadata": {},
   "outputs": [],
   "source": [
    "from spacy.lang.en.stop_words import STOP_WORDS\n",
    "from string import punctuation\n",
    "from collections import Counter\n",
    "from heapq import nlargest"
   ]
  },
  {
   "cell_type": "code",
   "execution_count": 94,
   "id": "27b06128",
   "metadata": {},
   "outputs": [
    {
     "data": {
      "text/plain": [
       "13"
      ]
     },
     "execution_count": 94,
     "metadata": {},
     "output_type": "execute_result"
    }
   ],
   "source": [
    "# nlp = spacy.load('en')\n",
    "# doc = nlp(doc)\n",
    "len(list(doc.sents))"
   ]
  },
  {
   "cell_type": "code",
   "execution_count": 95,
   "id": "7c5e6d44",
   "metadata": {},
   "outputs": [
    {
     "name": "stdout",
     "output_type": "stream",
     "text": [
      "[('Group', 24), ('market', 9), ('gifting', 8), ('competitors', 8), ('online', 8)]\n"
     ]
    }
   ],
   "source": [
    "keyword = []\n",
    "stopwords = list(STOP_WORDS)\n",
    "pos_tag = ['PROPN', 'ADJ', 'NOUN', 'VERB']\n",
    "for token in doc:\n",
    "    if(token.text in stopwords or token.text in punctuation):\n",
    "        continue\n",
    "    if(token.pos_ in pos_tag):\n",
    "        keyword.append(token.text)\n",
    "\n",
    "freq_word = Counter(keyword)\n",
    "print(freq_word.most_common(5))"
   ]
  },
  {
   "cell_type": "code",
   "execution_count": 96,
   "id": "75298d3a",
   "metadata": {},
   "outputs": [
    {
     "data": {
      "text/plain": [
       "collections.Counter"
      ]
     },
     "execution_count": 96,
     "metadata": {},
     "output_type": "execute_result"
    }
   ],
   "source": [
    "type(freq_word)"
   ]
  },
  {
   "cell_type": "code",
   "execution_count": 97,
   "id": "f00649bf",
   "metadata": {},
   "outputs": [
    {
     "data": {
      "text/plain": [
       "[('Group', 1.0),\n",
       " ('market', 0.375),\n",
       " ('gifting', 0.3333333333333333),\n",
       " ('competitors', 0.3333333333333333),\n",
       " ('online', 0.3333333333333333)]"
      ]
     },
     "execution_count": 97,
     "metadata": {},
     "output_type": "execute_result"
    }
   ],
   "source": [
    "max_freq = Counter(keyword).most_common(1)[0][1]\n",
    "for word in freq_word.keys():  \n",
    "        freq_word[word] = (freq_word[word]/max_freq)\n",
    "freq_word.most_common(5)"
   ]
  },
  {
   "cell_type": "code",
   "execution_count": 98,
   "id": "abc665d9",
   "metadata": {},
   "outputs": [
    {
     "name": "stdout",
     "output_type": "stream",
     "text": [
      "{The Group competes in the gifting market (the “ gifting market ”), which is large, evolving and highly competitive and includes the sale of greeting cards and gifts.: 3.249999999999999, The Group faces significant competition from a wide range of companies, ranging from traditional brick and mortar competitors that serve the offline channel to other online gifting companies.: 3.083333333333334, The Group’s offline competitors include specialist greeting cards, supermarkets and other retailers, generalists, stationers, discount chains and florists.: 2.2916666666666665, The Group also competes with online greeting card companies; online flower specialists; and online gift specialists.: 2.9166666666666674, Some of the Group’s competitors, particularly supermarkets, general merchandise discounters and stationery retailers, may have larger and broader customer bases, wider distribution channels, substantially greater financial, technical or marketing resources, stronger brand or name recognition or a lower cost base than the Group.: 3.708333333333333, Some of the Group’s competitors may have greater research and development resources and be able to adapt to changes in customer requirements, customer preferences or attitudes toward design content and gifting products faster, launch innovative products more quickly, more readily take advantage of acquisitions and other opportunities, or have more established relationships with third-party suppliers, which could result in the Group not being able to compete as effectively and lose its market position.: 5.541666666666665, The Group’s competitors may also aggressively discount their products in order to gain market share, which could result in pricing pressures, reduced profit margins, lost market share, or a failure to grow market share for the Group.: 4.958333333333332, Within each of the UK and the Netherlands, the Group has benefited from its strong positions in the gifting market, but competition could intensify as traditional retailers expand their digital, online and app-based sales capabilities and potential new competitors enter the gifting market.: 4.166666666666666, The Group could face an increase in online competition as a result of competitors prioritising investments in new or improved online platforms to deal with disruptions faced as a result of the novel strain of coronavirus causing Covid-19 disease (“ Covid-19 ”) and the expected continued shift to online purchasing, which may make it more difficult for the Group to maintain its market share.: 5.458333333333332, The Group competes, and could increasingly compete in the future, with alternatives or substitutes to the Group’s products, whether that is the increasing use of electronic gift cards as substitutes for physical gifts, social media or other companies that host and enable the posting of greetings, images, electronic or other gifts, e-cards or other innovations and developments.: 4.583333333333334, In addition, the Group competes and may increasingly compete in the future with alternative business models that serve the gifting markets, including greeting card subscription services, flower subscription services, or apps or websites that provide free products (only charging for any up-sells of attachments to the free base product) that compete or may serve as a substitute to the Group’s gifting products.: 5.875000000000001, If such alternative communications media or substitutions for the Group’s products appeal more to the Group’s existing customers or potential customers and the Group fails to innovate its product offering in a manner that continues to be attractive to its customers or enables the Group to maintain its existing margins, the Group may be unable to compete effectively.: 7.083333333333335, If the Group is not able to compete effectively against its current or potential competitors, this could have a material adverse effect on the Group’s business, results of operations, financial condition or prospects.: 3.333333333333333}\n"
     ]
    }
   ],
   "source": [
    "sent_strength={}\n",
    "for sent in doc.sents:\n",
    "    for word in sent:\n",
    "        if word.text in freq_word.keys():\n",
    "            if sent in sent_strength.keys():\n",
    "                sent_strength[sent]+=freq_word[word.text]\n",
    "            else:\n",
    "                sent_strength[sent]=freq_word[word.text]\n",
    "print(sent_strength)"
   ]
  },
  {
   "cell_type": "code",
   "execution_count": 99,
   "id": "b3acbbbc",
   "metadata": {},
   "outputs": [
    {
     "name": "stdout",
     "output_type": "stream",
     "text": [
      "[If such alternative communications media or substitutions for the Group’s products appeal more to the Group’s existing customers or potential customers and the Group fails to innovate its product offering in a manner that continues to be attractive to its customers or enables the Group to maintain its existing margins, the Group may be unable to compete effectively., In addition, the Group competes and may increasingly compete in the future with alternative business models that serve the gifting markets, including greeting card subscription services, flower subscription services, or apps or websites that provide free products (only charging for any up-sells of attachments to the free base product) that compete or may serve as a substitute to the Group’s gifting products., Some of the Group’s competitors may have greater research and development resources and be able to adapt to changes in customer requirements, customer preferences or attitudes toward design content and gifting products faster, launch innovative products more quickly, more readily take advantage of acquisitions and other opportunities, or have more established relationships with third-party suppliers, which could result in the Group not being able to compete as effectively and lose its market position.]\n"
     ]
    }
   ],
   "source": [
    "summarized_sentences = nlargest(3, sent_strength, key=sent_strength.get)\n",
    "print(summarized_sentences)"
   ]
  },
  {
   "cell_type": "code",
   "execution_count": 100,
   "id": "8a62132c",
   "metadata": {},
   "outputs": [
    {
     "name": "stdout",
     "output_type": "stream",
     "text": [
      "If such alternative communications media or substitutions for the Group’s products appeal more to the Group’s existing customers or potential customers and the Group fails to innovate its product offering in a manner that continues to be attractive to its customers or enables the Group to maintain its existing margins, the Group may be unable to compete effectively. In addition, the Group competes and may increasingly compete in the future with alternative business models that serve the gifting markets, including greeting card subscription services, flower subscription services, or apps or websites that provide free products (only charging for any up-sells of attachments to the free base product) that compete or may serve as a substitute to the Group’s gifting products. Some of the Group’s competitors may have greater research and development resources and be able to adapt to changes in customer requirements, customer preferences or attitudes toward design content and gifting products faster, launch innovative products more quickly, more readily take advantage of acquisitions and other opportunities, or have more established relationships with third-party suppliers, which could result in the Group not being able to compete as effectively and lose its market position.\n"
     ]
    }
   ],
   "source": [
    "final_sentences = [ w.text for w in summarized_sentences ]\n",
    "summary = ' '.join(final_sentences)\n",
    "print(summary)"
   ]
  },
  {
   "cell_type": "code",
   "execution_count": 101,
   "id": "963f0301",
   "metadata": {},
   "outputs": [],
   "source": [
    "# Extractive generalization (highlighting information that is company-specific)"
   ]
  },
  {
   "cell_type": "code",
   "execution_count": 104,
   "id": "73c48d69",
   "metadata": {},
   "outputs": [
    {
     "data": {
      "text/plain": [
       "'Within each of the UK and the Netherlands, the Group has benefited from its strong positions in the gifting market, but competition could intensify as traditional retailers expand their digital, online and app-based sales capabilities and potential new competitors enter the gifting market.'"
      ]
     },
     "execution_count": 104,
     "metadata": {},
     "output_type": "execute_result"
    }
   ],
   "source": [
    "excl = \"\"\n",
    "for i, s in enumerate(doc.sents):\n",
    "    for token in s:\n",
    "        if token.ent_type_ in ['GPE', 'NORP'] or token.pos_ == 'NUM': # or ORG >1 ?\n",
    "            #print(token.text, token.ent_type_)\n",
    "            excl += s.text\n",
    "            #print(f'Excluded sentence {i}: {s}')\n",
    "            break\n",
    "excl"
   ]
  },
  {
   "cell_type": "code",
   "execution_count": null,
   "id": "6d682a03",
   "metadata": {},
   "outputs": [],
   "source": []
  }
 ],
 "metadata": {
  "kernelspec": {
   "display_name": "Python 3 (ipykernel)",
   "language": "python",
   "name": "python3"
  },
  "language_info": {
   "codemirror_mode": {
    "name": "ipython",
    "version": 3
   },
   "file_extension": ".py",
   "mimetype": "text/x-python",
   "name": "python",
   "nbconvert_exporter": "python",
   "pygments_lexer": "ipython3",
   "version": "3.9.2"
  }
 },
 "nbformat": 4,
 "nbformat_minor": 5
}
