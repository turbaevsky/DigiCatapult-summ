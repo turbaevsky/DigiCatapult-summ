{
 "cells": [
  {
   "cell_type": "markdown",
   "metadata": {},
   "source": [
    "## Import Library"
   ]
  },
  {
   "cell_type": "code",
   "execution_count": 8,
   "metadata": {},
   "outputs": [],
   "source": [
    "# https://towardsdatascience.com/abstractive-summarization-using-pytorch-f5063e67510\n",
    "# https://towardsdatascience.com/top-nlp-libraries-to-use-2020-4f700cdb841f\n",
    "from transformers import pipeline\n",
    "import os"
   ]
  },
  {
   "cell_type": "markdown",
   "metadata": {},
   "source": [
    "## Setting GPU and Model to Use"
   ]
  },
  {
   "cell_type": "code",
   "execution_count": 9,
   "metadata": {},
   "outputs": [
    {
     "name": "stderr",
     "output_type": "stream",
     "text": [
      "No model was supplied, defaulted to sshleifer/distilbart-cnn-12-6 (https://huggingface.co/sshleifer/distilbart-cnn-12-6)\n"
     ]
    }
   ],
   "source": [
    "## Setting to use the 0th GPU\n",
    "os.environ[\"CUDA_VISIBLE_DEVICES\"] = \"0\"\n",
    "\n",
    "## Setting to use the bart-large-cnn model for summarization\n",
    "summarizer = pipeline(\"summarization\")\n",
    "\n",
    "## To use the t5-base model for summarization:\n",
    "## summarizer = pipeline(\"summarization\", model=\"t5-base\", tokenizer=\"t5-base\", framework=\"tf\")"
   ]
  },
  {
   "cell_type": "code",
   "execution_count": 1,
   "metadata": {},
   "outputs": [],
   "source": [
    "import pandas as pd"
   ]
  },
  {
   "cell_type": "code",
   "execution_count": 12,
   "metadata": {},
   "outputs": [],
   "source": [
    "df = pd.read_csv('../data/Dataset.csv')"
   ]
  },
  {
   "cell_type": "code",
   "execution_count": 5,
   "metadata": {},
   "outputs": [
    {
     "data": {
      "text/plain": [
       "Index(['Ref', 'Original text',\n",
       "       'Abstractive summarization (extremely short version - will require longer version in practice)',\n",
       "       'Extractive generalization (highlighting information that is company-specific)'],\n",
       "      dtype='object')"
      ]
     },
     "execution_count": 5,
     "metadata": {},
     "output_type": "execute_result"
    }
   ],
   "source": [
    "df.columns"
   ]
  },
  {
   "cell_type": "code",
   "execution_count": 2,
   "metadata": {},
   "outputs": [
    {
     "name": "stderr",
     "output_type": "stream",
     "text": [
      "/home/tur/.local/lib/python3.9/site-packages/spacy/util.py:865: UserWarning: [W095] Model 'en_core_web_sm' (3.2.0) was trained with spaCy v3.2 and may not be 100% compatible with the current version (3.4.1). If you see errors or degraded performance, download a newer compatible model or retrain your custom model with the current spaCy version. For more details and available updates, run: python -m spacy validate\n",
      "  warnings.warn(warn_msg)\n"
     ]
    }
   ],
   "source": [
    "#!pip3 install spacy\n",
    "import spacy\n",
    "nlp = spacy.load(\"en_core_web_sm\")"
   ]
  },
  {
   "cell_type": "markdown",
   "metadata": {},
   "source": [
    "## Input the Text to Summarize"
   ]
  },
  {
   "cell_type": "markdown",
   "metadata": {},
   "source": [
    "## Summarize"
   ]
  },
  {
   "cell_type": "code",
   "execution_count": 14,
   "metadata": {},
   "outputs": [
    {
     "name": "stderr",
     "output_type": "stream",
     "text": [
      "/tmp/ipykernel_227891/2100162076.py:8: UserWarning: [W007] The model you're using has no word vectors loaded, so the result of the Doc.similarity method will be based on the tagger, parser and NER, which may not give useful similarity judgements. This may happen if you're using one of the small models, e.g. `en_core_web_sm`, which don't ship with word vectors and only use context-sensitive tensors. You can always add your own word vectors, or use one of the larger models instead if available.\n",
      "  r = t1.similarity(t2)\n"
     ]
    },
    {
     "name": "stdout",
     "output_type": "stream",
     "text": [
      "0 out of 47 returns 0.902\n",
      "1 out of 47 returns 0.850\n",
      "2 out of 47 returns 0.872\n",
      "3 out of 47 returns 0.913\n",
      "4 out of 47 returns 0.851\n",
      "5 out of 47 returns 0.878\n",
      "6 out of 47 returns 0.819\n",
      "7 out of 47 returns 0.902\n",
      "8 out of 47 returns 0.927\n",
      "9 out of 47 returns 0.783\n",
      "10 out of 47 returns 0.836\n",
      "11 out of 47 returns 0.934\n",
      "12 out of 47 returns 0.908\n",
      "13 out of 47 returns 0.882\n",
      "14 out of 47 returns 0.939\n",
      "15 out of 47 returns 0.868\n",
      "16 out of 47 returns 0.947\n",
      "17 out of 47 returns 0.899\n",
      "18 out of 47 returns 0.914\n",
      "19 out of 47 returns 0.889\n",
      "20 out of 47 returns 0.950\n",
      "21 out of 47 returns 0.820\n",
      "22 out of 47 returns 0.696\n",
      "index out of range in self\n",
      "24 out of 47 returns 0.902\n",
      "25 out of 47 returns 0.897\n",
      "index out of range in self\n",
      "27 out of 47 returns 0.928\n",
      "28 out of 47 returns 0.846\n",
      "29 out of 47 returns 0.906\n",
      "30 out of 47 returns 0.892\n",
      "31 out of 47 returns 0.842\n",
      "32 out of 47 returns 0.895\n",
      "33 out of 47 returns 0.937\n",
      "34 out of 47 returns 0.889\n",
      "35 out of 47 returns 0.900\n",
      "36 out of 47 returns 0.849\n"
     ]
    },
    {
     "name": "stderr",
     "output_type": "stream",
     "text": [
      "Your max_length is set to 100, but you input_length is only 92. You might consider decreasing max_length manually, e.g. summarizer('...', max_length=46)\n"
     ]
    },
    {
     "name": "stdout",
     "output_type": "stream",
     "text": [
      "37 out of 47 returns 0.868\n",
      "38 out of 47 returns 0.926\n",
      "39 out of 47 returns 0.853\n",
      "40 out of 47 returns 0.959\n"
     ]
    },
    {
     "name": "stderr",
     "output_type": "stream",
     "text": [
      "Your max_length is set to 100, but you input_length is only 87. You might consider decreasing max_length manually, e.g. summarizer('...', max_length=43)\n"
     ]
    },
    {
     "name": "stdout",
     "output_type": "stream",
     "text": [
      "41 out of 47 returns 0.858\n"
     ]
    },
    {
     "name": "stderr",
     "output_type": "stream",
     "text": [
      "Your max_length is set to 100, but you input_length is only 87. You might consider decreasing max_length manually, e.g. summarizer('...', max_length=43)\n"
     ]
    },
    {
     "name": "stdout",
     "output_type": "stream",
     "text": [
      "42 out of 47 returns 0.876\n",
      "43 out of 47 returns 0.949\n",
      "44 out of 47 returns 0.920\n",
      "45 out of 47 returns 0.867\n",
      "46 out of 47 returns 0.885\n"
     ]
    }
   ],
   "source": [
    "arr = []\n",
    "for i in range(len(df)):\n",
    "    try:\n",
    "        txt = df.iloc[i][1]\n",
    "        sm = summarizer(txt, max_length=100, min_length=5, do_sample=False)[0]['summary_text']\n",
    "        t1 = nlp(txt)\n",
    "        t2 = nlp(sm)\n",
    "        r = t1.similarity(t2)\n",
    "        print(f'{i} out of {len(df)} returns {r:.3f}')\n",
    "        arr.append(r)\n",
    "    except Exception as e:\n",
    "        print(e)"
   ]
  },
  {
   "cell_type": "code",
   "execution_count": 2,
   "metadata": {},
   "outputs": [],
   "source": [
    "#arr"
   ]
  },
  {
   "cell_type": "code",
   "execution_count": 3,
   "metadata": {},
   "outputs": [],
   "source": [
    "#import seaborn as sns\n",
    "#sns.set_theme(style=\"whitegrid\")\n",
    "#ax = sns.barplot(data=arr)"
   ]
  },
  {
   "cell_type": "code",
   "execution_count": 23,
   "metadata": {},
   "outputs": [
    {
     "data": {
      "image/png": "[encoded data removed]",
      "text/plain": [
       "<Figure size 432x288 with 1 Axes>"
      ]
     },
     "metadata": {},
     "output_type": "display_data"
    }
   ],
   "source": [
    "import matplotlib.pyplot as plt\n",
    "import numpy as np\n",
    "plt.bar(np.arange(len(arr)), arr, align='center', alpha=0.5)\n",
    "plt.title('Similarity metric for abstractive summarization\\nbased on transformers')\n",
    "plt.ylabel('similarity')\n",
    "plt.show()"
   ]
  },
  {
   "cell_type": "code",
   "execution_count": 24,
   "metadata": {},
   "outputs": [],
   "source": [
    "from spacy.lang.en.stop_words import STOP_WORDS\n",
    "from string import punctuation\n",
    "from collections import Counter\n",
    "from heapq import nlargest"
   ]
  },
  {
   "cell_type": "code",
   "execution_count": 26,
   "metadata": {},
   "outputs": [],
   "source": [
    "def sm2(txt): \n",
    "    doc = nlp(re.sub(r'\\n',' ',txt))\n",
    "    keyword = []\n",
    "    stopwords = list(STOP_WORDS)\n",
    "    pos_tag = ['PROPN', 'ADJ', 'NOUN', 'VERB']\n",
    "    for token in doc:\n",
    "        if(token.text in stopwords or token.text in punctuation):\n",
    "            continue\n",
    "        if(token.pos_ in pos_tag):\n",
    "            keyword.append(token.text)\n",
    "    freq_word = Counter(keyword)\n",
    "\n",
    "    max_freq = Counter(keyword).most_common(1)[0][1]\n",
    "    for word in freq_word.keys():  \n",
    "        freq_word[word] = (freq_word[word]/max_freq)\n",
    "    freq_word.most_common(5)\n",
    "\n",
    "    sent_strength={}\n",
    "    for sent in doc.sents:\n",
    "        for word in sent:\n",
    "            if word.text in freq_word.keys():\n",
    "                if sent in sent_strength.keys():\n",
    "                    sent_strength[sent]+=freq_word[word.text]\n",
    "                else:\n",
    "                    sent_strength[sent]=freq_word[word.text]\n",
    "\n",
    "    summarized_sentences = nlargest(3, sent_strength, key=sent_strength.get)\n",
    "    # summary\n",
    "    final_sentences = [ w.text for w in summarized_sentences ]\n",
    "    summary = ' '.join(final_sentences)\n",
    "    return(summary)"
   ]
  },
  {
   "cell_type": "code",
   "execution_count": 31,
   "metadata": {},
   "outputs": [
    {
     "name": "stderr",
     "output_type": "stream",
     "text": [
      "/tmp/ipykernel_227891/2978185231.py:9: UserWarning: [W007] The model you're using has no word vectors loaded, so the result of the Doc.similarity method will be based on the tagger, parser and NER, which may not give useful similarity judgements. This may happen if you're using one of the small models, e.g. `en_core_web_sm`, which don't ship with word vectors and only use context-sensitive tensors. You can always add your own word vectors, or use one of the larger models instead if available.\n",
      "  r = t1.similarity(t2)\n"
     ]
    },
    {
     "name": "stdout",
     "output_type": "stream",
     "text": [
      "0 out of 47 returns 0.957\n",
      "1 out of 47 returns 0.985\n",
      "2 out of 47 returns 0.923\n",
      "3 out of 47 returns 0.962\n",
      "4 out of 47 returns 0.959\n",
      "5 out of 47 returns 0.979\n",
      "6 out of 47 returns 0.944\n",
      "7 out of 47 returns 0.972\n",
      "8 out of 47 returns 0.939\n",
      "9 out of 47 returns 0.980\n",
      "10 out of 47 returns 0.973\n",
      "11 out of 47 returns 0.970\n",
      "12 out of 47 returns 0.945\n",
      "13 out of 47 returns 0.992\n",
      "14 out of 47 returns 0.993\n",
      "15 out of 47 returns 0.959\n",
      "16 out of 47 returns 0.989\n",
      "17 out of 47 returns 0.964\n",
      "18 out of 47 returns 0.983\n",
      "19 out of 47 returns 0.967\n",
      "20 out of 47 returns 1.000\n",
      "21 out of 47 returns 0.956\n",
      "22 out of 47 returns 0.998\n",
      "23 out of 47 returns 0.938\n",
      "24 out of 47 returns 0.977\n",
      "25 out of 47 returns 0.975\n",
      "26 out of 47 returns 0.946\n",
      "27 out of 47 returns 0.964\n",
      "28 out of 47 returns 0.952\n",
      "29 out of 47 returns 0.964\n",
      "30 out of 47 returns 0.939\n",
      "31 out of 47 returns 0.974\n",
      "32 out of 47 returns 0.983\n",
      "33 out of 47 returns 0.990\n",
      "34 out of 47 returns 0.974\n",
      "35 out of 47 returns 0.961\n",
      "36 out of 47 returns 0.973\n",
      "37 out of 47 returns 0.984\n",
      "38 out of 47 returns 1.000\n",
      "39 out of 47 returns 0.968\n",
      "40 out of 47 returns 0.994\n",
      "41 out of 47 returns 0.970\n",
      "42 out of 47 returns 1.000\n",
      "43 out of 47 returns 1.000\n",
      "44 out of 47 returns 0.991\n",
      "45 out of 47 returns 0.981\n",
      "46 out of 47 returns 0.987\n"
     ]
    }
   ],
   "source": [
    "import re\n",
    "arr2 = []\n",
    "for i in range(len(df)):\n",
    "    try:\n",
    "        txt = df.iloc[i][1]\n",
    "        sm = sm2(txt)\n",
    "        t1 = nlp(txt)\n",
    "        t2 = nlp(sm)\n",
    "        r = t1.similarity(t2)\n",
    "        print(f'{i} out of {len(df)} returns {r:.3f}')\n",
    "        arr2.append(r)\n",
    "    except Exception as e:\n",
    "        print(e)"
   ]
  },
  {
   "cell_type": "code",
   "execution_count": 33,
   "metadata": {},
   "outputs": [
    {
     "data": {
      "image/png": "[encoded data removed]",
      "text/plain": [
       "<Figure size 432x288 with 1 Axes>"
      ]
     },
     "metadata": {},
     "output_type": "display_data"
    }
   ],
   "source": [
    "plt.bar(np.arange(len(arr2)), arr2, align='center', alpha=0.5)\n",
    "plt.title('Similarity metric for extractive summarization\\nbased on TF-IDF')\n",
    "plt.ylabel('similarity')\n",
    "plt.show()"
   ]
  },
  {
   "cell_type": "code",
   "execution_count": 34,
   "metadata": {},
   "outputs": [],
   "source": [
    "# extractive generalisation"
   ]
  },
  {
   "cell_type": "code",
   "execution_count": 4,
   "metadata": {},
   "outputs": [],
   "source": [
    "df2 = pd.read_csv('../data/generalisation.csv')"
   ]
  },
  {
   "cell_type": "code",
   "execution_count": 5,
   "metadata": {},
   "outputs": [
    {
     "data": {
      "text/html": [
       "<div>\n",
       "<style scoped>\n",
       "    .dataframe tbody tr th:only-of-type {\n",
       "        vertical-align: middle;\n",
       "    }\n",
       "\n",
       "    .dataframe tbody tr th {\n",
       "        vertical-align: top;\n",
       "    }\n",
       "\n",
       "    .dataframe thead th {\n",
       "        text-align: right;\n",
       "    }\n",
       "</style>\n",
       "<table border=\"1\" class=\"dataframe\">\n",
       "  <thead>\n",
       "    <tr style=\"text-align: right;\">\n",
       "      <th></th>\n",
       "      <th>Original text</th>\n",
       "      <th>\"Abstractive summarization (extremely short version - will require longer version in practice)\"</th>\n",
       "      <th>\"Extractive generalization (information that is company-specific)\"</th>\n",
       "    </tr>\n",
       "  </thead>\n",
       "  <tbody>\n",
       "    <tr>\n",
       "      <th>0</th>\n",
       "      <td>The Group competes in the gifting market (the ...</td>\n",
       "      <td>The Group faces significant competition for it...</td>\n",
       "      <td>The Group faces significant competition from a...</td>\n",
       "    </tr>\n",
       "    <tr>\n",
       "      <th>1</th>\n",
       "      <td>The Group’s success depends on its ability to ...</td>\n",
       "      <td>The Group’s efforts to retain existing custome...</td>\n",
       "      <td>The Group benefits from current cultural pract...</td>\n",
       "    </tr>\n",
       "    <tr>\n",
       "      <th>2</th>\n",
       "      <td>Maintaining, protecting and enhancing the Grou...</td>\n",
       "      <td>The Group’s business depends on the strength o...</td>\n",
       "      <td>The Group’s customers may post negative review...</td>\n",
       "    </tr>\n",
       "    <tr>\n",
       "      <th>3</th>\n",
       "      <td>The Group relies on its technology platforms f...</td>\n",
       "      <td>A failure of the Group to improve and enhance ...</td>\n",
       "      <td>The Group relies on its technology platforms f...</td>\n",
       "    </tr>\n",
       "    <tr>\n",
       "      <th>4</th>\n",
       "      <td>The Group uses a multi-channel marketing strat...</td>\n",
       "      <td>If the Group’s customer acquisition costs incr...</td>\n",
       "      <td>The Group uses a multi-channel marketing strat...</td>\n",
       "    </tr>\n",
       "    <tr>\n",
       "      <th>5</th>\n",
       "      <td>The higher growth in revenue experienced by th...</td>\n",
       "      <td>The Group’s business has experienced rapid gro...</td>\n",
       "      <td>The higher growth in revenue experienced by th...</td>\n",
       "    </tr>\n",
       "    <tr>\n",
       "      <th>6</th>\n",
       "      <td>The Group’s success depends in part on the con...</td>\n",
       "      <td>The Group’s success depends on the continued g...</td>\n",
       "      <td>NaN</td>\n",
       "    </tr>\n",
       "    <tr>\n",
       "      <th>7</th>\n",
       "      <td>The Group’s brand, reputation and ability to a...</td>\n",
       "      <td>Any significant disruption in service on the G...</td>\n",
       "      <td>Like many technology-based businesses, the Gro...</td>\n",
       "    </tr>\n",
       "    <tr>\n",
       "      <th>8</th>\n",
       "      <td>The Group relies on various third parties for ...</td>\n",
       "      <td>The Group relies on various third parties for ...</td>\n",
       "      <td>The Group evaluates third-party suppliers for ...</td>\n",
       "    </tr>\n",
       "  </tbody>\n",
       "</table>\n",
       "</div>"
      ],
      "text/plain": [
       "                                       Original text  \\\n",
       "0  The Group competes in the gifting market (the ...   \n",
       "1  The Group’s success depends on its ability to ...   \n",
       "2  Maintaining, protecting and enhancing the Grou...   \n",
       "3  The Group relies on its technology platforms f...   \n",
       "4  The Group uses a multi-channel marketing strat...   \n",
       "5  The higher growth in revenue experienced by th...   \n",
       "6  The Group’s success depends in part on the con...   \n",
       "7  The Group’s brand, reputation and ability to a...   \n",
       "8  The Group relies on various third parties for ...   \n",
       "\n",
       "   \"Abstractive summarization (extremely short version - will require longer version in practice)\"  \\\n",
       "0  The Group faces significant competition for it...                                                 \n",
       "1  The Group’s efforts to retain existing custome...                                                 \n",
       "2  The Group’s business depends on the strength o...                                                 \n",
       "3  A failure of the Group to improve and enhance ...                                                 \n",
       "4  If the Group’s customer acquisition costs incr...                                                 \n",
       "5  The Group’s business has experienced rapid gro...                                                 \n",
       "6  The Group’s success depends on the continued g...                                                 \n",
       "7  Any significant disruption in service on the G...                                                 \n",
       "8  The Group relies on various third parties for ...                                                 \n",
       "\n",
       "   \"Extractive generalization (information that is company-specific)\"  \n",
       "0  The Group faces significant competition from a...                   \n",
       "1  The Group benefits from current cultural pract...                   \n",
       "2  The Group’s customers may post negative review...                   \n",
       "3  The Group relies on its technology platforms f...                   \n",
       "4  The Group uses a multi-channel marketing strat...                   \n",
       "5  The higher growth in revenue experienced by th...                   \n",
       "6                                                NaN                   \n",
       "7  Like many technology-based businesses, the Gro...                   \n",
       "8  The Group evaluates third-party suppliers for ...                   "
      ]
     },
     "execution_count": 5,
     "metadata": {},
     "output_type": "execute_result"
    }
   ],
   "source": [
    "df2"
   ]
  },
  {
   "cell_type": "code",
   "execution_count": 131,
   "metadata": {},
   "outputs": [],
   "source": [
    "import spacy\n",
    "nlp = spacy.load(\"en_core_web_sm\")\n",
    "\n",
    "def excl(txt):\n",
    "    excl = \"\"\n",
    "    doc = nlp(txt)\n",
    "    for i, s in enumerate(doc.sents):\n",
    "        for token in s:\n",
    "            #if token.ent_type_ != '' or token.pos_ != '':\n",
    "            #print(token.text, token.lemma_, token.ent_type_, token.pos_, token.dep_)\n",
    "            if token.ent_type_ in ['GPE', 'NORP']\\\n",
    "            or token.pos_ == 'NUM'\\\n",
    "            or (token.dep_ == 'ROOT' and token.lemma_ in ['face','compete','include','benefit','evolve',\n",
    "                                                          'affect','rely','develop','accelerate','invest',\n",
    "                                                         'acquire']):\n",
    "                #print(token.text, token.lemma_, token.ent_type_)\n",
    "                excl += (s.text+' ')\n",
    "                #print(f'Excluded sentence {i}: {s}')\n",
    "                break\n",
    "    return excl"
   ]
  },
  {
   "cell_type": "code",
   "execution_count": 129,
   "metadata": {},
   "outputs": [],
   "source": [
    "def root(txt):\n",
    "    doc = nlp(txt)\n",
    "    for i, s in enumerate(doc.sents):\n",
    "        for token in s:\n",
    "            if token.dep_ == 'ROOT':\n",
    "                print(f'Sentence {i} has {token.lemma_} as a root')"
   ]
  },
  {
   "cell_type": "code",
   "execution_count": 130,
   "metadata": {},
   "outputs": [
    {
     "name": "stdout",
     "output_type": "stream",
     "text": [
      "Sentence 0 has face as a root\n",
      "Sentence 1 has include as a root\n",
      "Sentence 2 has compete as a root\n",
      "Sentence 3 has benefit as a root\n",
      "Sentence 4 has compete as a root\n",
      "Sentence 5 has compete as a root\n",
      "Sentence 6 has be as a root\n",
      "Sentence 0 has benefit as a root\n",
      "Sentence 1 has evolve as a root\n",
      "Sentence 2 has be as a root\n",
      "Sentence 3 has affect as a root\n",
      "Sentence 4 has rely as a root\n",
      "Sentence 5 has affect as a root\n",
      "Sentence 6 has inability as a root\n",
      "Sentence 0 has post as a root\n",
      "Sentence 1 has have as a root\n",
      "Sentence 2 has mean as a root\n",
      "Sentence 3 has develop as a root\n",
      "Sentence 4 has be as a root\n",
      "Sentence 0 has rely as a root\n",
      "Sentence 1 has develop as a root\n",
      "Sentence 2 has characterise as a root\n",
      "Sentence 3 has base as a root\n",
      "Sentence 4 has include as a root\n",
      "Sentence 0 has use as a root\n",
      "Sentence 1 has locate as a root\n",
      "Sentence 2 has invest as a root\n",
      "Sentence 0 has be as a root\n",
      "Sentence 1 has accelerate as a root\n",
      "Sentence 2 has end as a root\n",
      "Sentence 3 has present as a root\n",
      "Sentence 4 has be as a root\n",
      "Sentence 5 has say as a root\n",
      "Sentence 6 has represent as a root\n",
      "Sentence 7 has acquire as a root\n"
     ]
    },
    {
     "ename": "ValueError",
     "evalue": "[E1041] Expected a string, Doc, or bytes as input, but got: <class 'float'>",
     "output_type": "error",
     "traceback": [
      "\u001b[0;31m---------------------------------------------------------------------------\u001b[0m",
      "\u001b[0;31mValueError\u001b[0m                                Traceback (most recent call last)",
      "\u001b[0;32m/tmp/ipykernel_92031/1255418361.py\u001b[0m in \u001b[0;36m<module>\u001b[0;34m\u001b[0m\n\u001b[1;32m      1\u001b[0m \u001b[0;32mfor\u001b[0m \u001b[0mi\u001b[0m \u001b[0;32min\u001b[0m \u001b[0mrange\u001b[0m\u001b[0;34m(\u001b[0m\u001b[0mlen\u001b[0m\u001b[0;34m(\u001b[0m\u001b[0mdf2\u001b[0m\u001b[0;34m)\u001b[0m\u001b[0;34m)\u001b[0m\u001b[0;34m:\u001b[0m\u001b[0;34m\u001b[0m\u001b[0;34m\u001b[0m\u001b[0m\n\u001b[0;32m----> 2\u001b[0;31m     \u001b[0mroot\u001b[0m\u001b[0;34m(\u001b[0m\u001b[0mdf2\u001b[0m\u001b[0;34m.\u001b[0m\u001b[0miloc\u001b[0m\u001b[0;34m[\u001b[0m\u001b[0mi\u001b[0m\u001b[0;34m]\u001b[0m\u001b[0;34m[\u001b[0m\u001b[0;36m2\u001b[0m\u001b[0;34m]\u001b[0m\u001b[0;34m)\u001b[0m\u001b[0;34m\u001b[0m\u001b[0;34m\u001b[0m\u001b[0m\n\u001b[0m",
      "\u001b[0;32m/tmp/ipykernel_92031/427165623.py\u001b[0m in \u001b[0;36mroot\u001b[0;34m(txt)\u001b[0m\n\u001b[1;32m      1\u001b[0m \u001b[0;32mdef\u001b[0m \u001b[0mroot\u001b[0m\u001b[0;34m(\u001b[0m\u001b[0mtxt\u001b[0m\u001b[0;34m)\u001b[0m\u001b[0;34m:\u001b[0m\u001b[0;34m\u001b[0m\u001b[0;34m\u001b[0m\u001b[0m\n\u001b[0;32m----> 2\u001b[0;31m     \u001b[0mdoc\u001b[0m \u001b[0;34m=\u001b[0m \u001b[0mnlp\u001b[0m\u001b[0;34m(\u001b[0m\u001b[0mtxt\u001b[0m\u001b[0;34m)\u001b[0m\u001b[0;34m\u001b[0m\u001b[0;34m\u001b[0m\u001b[0m\n\u001b[0m\u001b[1;32m      3\u001b[0m     \u001b[0;32mfor\u001b[0m \u001b[0mi\u001b[0m\u001b[0;34m,\u001b[0m \u001b[0ms\u001b[0m \u001b[0;32min\u001b[0m \u001b[0menumerate\u001b[0m\u001b[0;34m(\u001b[0m\u001b[0mdoc\u001b[0m\u001b[0;34m.\u001b[0m\u001b[0msents\u001b[0m\u001b[0;34m)\u001b[0m\u001b[0;34m:\u001b[0m\u001b[0;34m\u001b[0m\u001b[0;34m\u001b[0m\u001b[0m\n\u001b[1;32m      4\u001b[0m         \u001b[0;32mfor\u001b[0m \u001b[0mtoken\u001b[0m \u001b[0;32min\u001b[0m \u001b[0ms\u001b[0m\u001b[0;34m:\u001b[0m\u001b[0;34m\u001b[0m\u001b[0;34m\u001b[0m\u001b[0m\n\u001b[1;32m      5\u001b[0m             \u001b[0;32mif\u001b[0m \u001b[0mtoken\u001b[0m\u001b[0;34m.\u001b[0m\u001b[0mdep_\u001b[0m \u001b[0;34m==\u001b[0m \u001b[0;34m'ROOT'\u001b[0m\u001b[0;34m:\u001b[0m\u001b[0;34m\u001b[0m\u001b[0;34m\u001b[0m\u001b[0m\n",
      "\u001b[0;32m~/.local/lib/python3.9/site-packages/spacy/language.py\u001b[0m in \u001b[0;36m__call__\u001b[0;34m(self, text, disable, component_cfg)\u001b[0m\n\u001b[1;32m   1006\u001b[0m         \u001b[0mDOCS\u001b[0m\u001b[0;34m:\u001b[0m \u001b[0mhttps\u001b[0m\u001b[0;34m:\u001b[0m\u001b[0;34m//\u001b[0m\u001b[0mspacy\u001b[0m\u001b[0;34m.\u001b[0m\u001b[0mio\u001b[0m\u001b[0;34m/\u001b[0m\u001b[0mapi\u001b[0m\u001b[0;34m/\u001b[0m\u001b[0mlanguage\u001b[0m\u001b[0;31m#call\u001b[0m\u001b[0;34m\u001b[0m\u001b[0;34m\u001b[0m\u001b[0m\n\u001b[1;32m   1007\u001b[0m         \"\"\"\n\u001b[0;32m-> 1008\u001b[0;31m         \u001b[0mdoc\u001b[0m \u001b[0;34m=\u001b[0m \u001b[0mself\u001b[0m\u001b[0;34m.\u001b[0m\u001b[0m_ensure_doc\u001b[0m\u001b[0;34m(\u001b[0m\u001b[0mtext\u001b[0m\u001b[0;34m)\u001b[0m\u001b[0;34m\u001b[0m\u001b[0;34m\u001b[0m\u001b[0m\n\u001b[0m\u001b[1;32m   1009\u001b[0m         \u001b[0;32mif\u001b[0m \u001b[0mcomponent_cfg\u001b[0m \u001b[0;32mis\u001b[0m \u001b[0;32mNone\u001b[0m\u001b[0;34m:\u001b[0m\u001b[0;34m\u001b[0m\u001b[0;34m\u001b[0m\u001b[0m\n\u001b[1;32m   1010\u001b[0m             \u001b[0mcomponent_cfg\u001b[0m \u001b[0;34m=\u001b[0m \u001b[0;34m{\u001b[0m\u001b[0;34m}\u001b[0m\u001b[0;34m\u001b[0m\u001b[0;34m\u001b[0m\u001b[0m\n",
      "\u001b[0;32m~/.local/lib/python3.9/site-packages/spacy/language.py\u001b[0m in \u001b[0;36m_ensure_doc\u001b[0;34m(self, doc_like)\u001b[0m\n\u001b[1;32m   1100\u001b[0m         \u001b[0;32mif\u001b[0m \u001b[0misinstance\u001b[0m\u001b[0;34m(\u001b[0m\u001b[0mdoc_like\u001b[0m\u001b[0;34m,\u001b[0m \u001b[0mbytes\u001b[0m\u001b[0;34m)\u001b[0m\u001b[0;34m:\u001b[0m\u001b[0;34m\u001b[0m\u001b[0;34m\u001b[0m\u001b[0m\n\u001b[1;32m   1101\u001b[0m             \u001b[0;32mreturn\u001b[0m \u001b[0mDoc\u001b[0m\u001b[0;34m(\u001b[0m\u001b[0mself\u001b[0m\u001b[0;34m.\u001b[0m\u001b[0mvocab\u001b[0m\u001b[0;34m)\u001b[0m\u001b[0;34m.\u001b[0m\u001b[0mfrom_bytes\u001b[0m\u001b[0;34m(\u001b[0m\u001b[0mdoc_like\u001b[0m\u001b[0;34m)\u001b[0m\u001b[0;34m\u001b[0m\u001b[0;34m\u001b[0m\u001b[0m\n\u001b[0;32m-> 1102\u001b[0;31m         \u001b[0;32mraise\u001b[0m \u001b[0mValueError\u001b[0m\u001b[0;34m(\u001b[0m\u001b[0mErrors\u001b[0m\u001b[0;34m.\u001b[0m\u001b[0mE1041\u001b[0m\u001b[0;34m.\u001b[0m\u001b[0mformat\u001b[0m\u001b[0;34m(\u001b[0m\u001b[0mtype\u001b[0m\u001b[0;34m=\u001b[0m\u001b[0mtype\u001b[0m\u001b[0;34m(\u001b[0m\u001b[0mdoc_like\u001b[0m\u001b[0;34m)\u001b[0m\u001b[0;34m)\u001b[0m\u001b[0;34m)\u001b[0m\u001b[0;34m\u001b[0m\u001b[0;34m\u001b[0m\u001b[0m\n\u001b[0m\u001b[1;32m   1103\u001b[0m \u001b[0;34m\u001b[0m\u001b[0m\n\u001b[1;32m   1104\u001b[0m     def _ensure_doc_with_context(\n",
      "\u001b[0;31mValueError\u001b[0m: [E1041] Expected a string, Doc, or bytes as input, but got: <class 'float'>"
     ]
    }
   ],
   "source": [
    "for i in range(len(df2)):\n",
    "    root(df2.iloc[i][2])"
   ]
  },
  {
   "cell_type": "code",
   "execution_count": 121,
   "metadata": {},
   "outputs": [
    {
     "data": {
      "text/plain": [
       "'The Group faces significant competition from a wide range of companies, ranging from traditional brick and mortar competitors that serve the offline channel to other online gifting companies. The Group’s offline competitors include specialist greeting cards, supermarkets and other retailers, generalists, stationers, discount chains and florists. The Group also competes with online greeting card companies; online flower specialists; and online gift specialists. Within each of the UK and the Netherlands, the Group has benefited from its strong positions in the gifting market, but competition could intensify as traditional retailers expand their digital, online and app-based sales capabilities and potential new competitors enter the gifting market. The Group competes, and could increasingly compete in the future, with alternatives or substitutes to the Group’s products, whether that is the increasing use of electronic gift cards as substitutes for physical gifts, social media or other companies that host and enable the posting of greetings, images, electronic or other gifts, e-cards or other innovations and developments. In addition, the Group competes and may increasingly compete in the future with alternative business models that serve the gifting markets, including greeting card subscription services, flower subscription services, or apps or websites that provide free products (only charging for any up-sells of attachments to the free base product) that compete or may serve as a substitute to the Group’s gifting products. If such alternative communications media or substitutions for the Group’s products appeal more to the Group’s existing customers or potential customers and the Group fails to innovate its product offering in a manner that continues to be attractive to its customers or enables the Group to maintain its existing margins, the Group may be unable to compete effectively.'"
      ]
     },
     "execution_count": 121,
     "metadata": {},
     "output_type": "execute_result"
    }
   ],
   "source": [
    "df2.iloc[0][2]"
   ]
  },
  {
   "cell_type": "code",
   "execution_count": 122,
   "metadata": {},
   "outputs": [
    {
     "data": {
      "text/plain": [
       "'The Group faces significant competition from a wide range of companies, ranging from traditional brick and mortar competitors that serve the offline channel to other online gifting companies. The Group also competes with online greeting card companies; online flower specialists; and online gift specialists. Within each of the UK and the Netherlands, the Group has benefited from its strong positions in the gifting market, but competition could intensify as traditional retailers expand their digital, online and app-based sales capabilities and potential new competitors enter the gifting market. The Group competes, and could increasingly compete in the future, with alternatives or substitutes to the Group’s products, whether that is the increasing use of electronic gift cards as substitutes for physical gifts, social media or other companies that host and enable the posting of greetings, images, electronic or other gifts, e-cards or other innovations and developments. In addition, the Group competes and may increasingly compete in the future with alternative business models that serve the gifting markets, including greeting card subscription services, flower subscription services, or apps or websites that provide free products (only charging for any up-sells of attachments to the free base product) that compete or may serve as a substitute to the Group’s gifting products. '"
      ]
     },
     "execution_count": 122,
     "metadata": {},
     "output_type": "execute_result"
    }
   ],
   "source": [
    "excl(df2.iloc[0][2])"
   ]
  },
  {
   "cell_type": "code",
   "execution_count": 123,
   "metadata": {},
   "outputs": [],
   "source": [
    "import nltk\n",
    "import nltk.translate.bleu_score as bleu\n",
    "\n",
    "import math\n",
    "import numpy\n",
    "import os"
   ]
  },
  {
   "cell_type": "markdown",
   "metadata": {},
   "source": [
    "*Corpus* score calculation\n",
    "*Compares 1 candidate document with multiple sentence and 1+ reference documents also with multiple sentences.*\n",
    "* Different than averaging BLEU scores of each sentence, it calculates the score by *\"summing the numerators and denominators for each hypothesis-reference(s) pairs before the division\"*"
   ]
  },
  {
   "cell_type": "code",
   "execution_count": 124,
   "metadata": {},
   "outputs": [],
   "source": [
    "#score_ref_a = bleu.corpus_bleu([[ref_a]], [hyp])\n",
    "#print(\"1 document with 1 reference sentence: {}\".format(score_ref_a))"
   ]
  },
  {
   "cell_type": "code",
   "execution_count": 132,
   "metadata": {},
   "outputs": [
    {
     "name": "stdout",
     "output_type": "stream",
     "text": [
      "0 out of 9 returns 0.830 BLEU score\n",
      "To be excluded: The Group faces significant competition from a wide range of companies, ranging from traditional brick and mortar competitors that serve the offline channel to other online gifting companies. The Group’s offline competitors include specialist greeting cards, supermarkets and other retailers, generalists, stationers, discount chains and florists. The Group also competes with online greeting card companies; online flower specialists; and online gift specialists. Within each of the UK and the Netherlands, the Group has benefited from its strong positions in the gifting market, but competition could intensify as traditional retailers expand their digital, online and app-based sales capabilities and potential new competitors enter the gifting market. The Group competes, and could increasingly compete in the future, with alternatives or substitutes to the Group’s products, whether that is the increasing use of electronic gift cards as substitutes for physical gifts, social media or other companies that host and enable the posting of greetings, images, electronic or other gifts, e-cards or other innovations and developments. In addition, the Group competes and may increasingly compete in the future with alternative business models that serve the gifting markets, including greeting card subscription services, flower subscription services, or apps or websites that provide free products (only charging for any up-sells of attachments to the free base product) that compete or may serve as a substitute to the Group’s gifting products. If such alternative communications media or substitutions for the Group’s products appeal more to the Group’s existing customers or potential customers and the Group fails to innovate its product offering in a manner that continues to be attractive to its customers or enables the Group to maintain its existing margins, the Group may be unable to compete effectively.\n",
      "\n",
      "Model suggest to exclude: The Group competes in the gifting market (the “ gifting market ”), which is large, evolving and highly competitive and includes the sale of greeting cards and gifts. The Group faces significant competition from a wide range of companies, ranging from traditional brick and mortar competitors that serve the offline channel to other online gifting companies. The Group’s offline competitors include specialist greeting cards, supermarkets and other retailers, generalists, stationers, discount chains and florists. The Group also competes with online greeting card companies; online flower specialists; and online gift specialists. Within each of the UK and the Netherlands, the Group has benefited from its strong positions in the gifting market, but competition could intensify as traditional retailers expand their digital, online and app-based sales capabilities and potential new competitors enter the gifting market. The Group could face an increase in online competition as a result of competitors prioritising investments in new or improved online platforms to deal with disruptions faced as a result of the novel strain of coronavirus causing Covid-19 disease (“ Covid-19 ”) and the expected continued shift to online purchasing, which may make it more difficult for the Group to maintain its market share. The Group competes, and could increasingly compete in the future, with alternatives or substitutes to the Group’s products, whether that is the increasing use of electronic gift cards as substitutes for physical gifts, social media or other companies that host and enable the posting of greetings, images, electronic or other gifts, e-cards or other innovations and developments. In addition, the Group competes and may increasingly compete in the future with alternative business models that serve the gifting markets, including greeting card subscription services, flower subscription services, or apps or websites that provide free products (only charging for any up-sells of attachments to the free base product) that compete or may serve as a substitute to the Group’s gifting products. \n",
      "\n",
      "1 out of 9 returns 0.469 BLEU score\n",
      "To be excluded: The Group benefits from current cultural practices surrounding the giving of cards in Anglo-Saxon and Dutch societies. While the single card market has been broadly stable in both countries (for instance OC&C estimates that from 2016 to 2019 the UK market declined by 0.3% compound annual growth rate (“ CAGR ”) in volume terms and grew by 0.5% CAGR in value), cultural norms could evolve or change. Because the Group does not have the direct face-to-face contact with customers that comes from offline retail, the way the Group directly interacts with customers through its platform is important to maintaining continuous customer relationships. For example, if customer ratings of the Group’s products were to decline as reflected by lower NPS or app ratings, such negative customer experiences could adversely affect the business. The Group relies on a variety of tools on its platform, including reminders of birthdays and other events to prompt repeat engagement and purchases with prior customers, as well as customer relationship management strategies. Any actual or perceived failures by the Group’s platform or customer relationship management strategies for customer engagement could negatively affect customer satisfaction, engagement, loyalty or retention. Accordingly, any inability by the Group to retain customers or attract new customers could have a material adverse effect on the Group’s business, results of operations, financial condition or prospects.\n",
      "\n",
      "Model suggest to exclude: Factors that could influence such an ability include: • technical or other problems preventing the Group from delivering its products in a timely and reliable manner or otherwise negatively affecting the customer experience; • any unavailability or delay to customers of the Group’s products, including products sourced from third parties or shipped by third parties which may arise due to factors outside the Group’s control due to changes in the service level agreements or the reliability of services provided by regulated postal services on which the Group must rely; • any pricing changes for the Group’s products are negatively received or the pricing of the Group’s competitors change; • ineffective marketing or brand promotion campaigns by the Group or effective marketing or brand promotion campaigns by the Group’s competitors; • security breaches leading to the Group’s loss of confidential customer or employee information; • negative publicity surrounding the Group, its brands or its products for any reason, including that resulting from negative online reviews or unfavourable press coverage; • a perception that the Group acts in an irresponsible manner, including with respect to its environmental, social or corporate responsibility; or • if there are adverse changes that are mandated by legislation, regulatory authorities or litigation that impacts the Group’s ability to market its products to customers. The Group benefits from current cultural practices surrounding the giving of cards in Anglo-Saxon and Dutch societies. While the single card market has been broadly stable in both countries (for instance OC&C estimates that from 2016 to 2019 the UK market declined by 0.3% compound annual growth rate (“ CAGR ”) in volume terms and grew by 0.5% CAGR in value), cultural norms could evolve or change. For example, if customer ratings of the Group’s products were to decline as reflected by lower NPS or app ratings, such negative customer experiences could adversely affect the business. The Group relies on a variety of tools on its platform, including reminders of birthdays and other events to prompt repeat engagement and purchases with prior customers, as well as customer relationship management strategies. Any actual or perceived failures by the Group’s platform or customer relationship management strategies for customer engagement could negatively affect customer satisfaction, engagement, loyalty or retention. \n",
      "\n",
      "2 out of 9 returns 0.615 BLEU score\n",
      "To be excluded: The Group’s customers may post negative reviews or experiences online, whether on the Group’s platforms, Bazaarvoice or Thuiswinkel (the Group’s third-party platforms for customer-generated reviews and other content), Trustpilot, its social media platforms (including Facebook and Instagram) or on customers own social media or other online accounts. Although the Group has content rules for personalised cards and gifts, high output volumes (in particular for cards, of which the Group produced 46 million in the last twelve months ended 31 October 2020) mean it is not feasible for the Group to manually screen all personalised products for compliance with its content rules, whilst cultural practices (where customers and recipients use and appreciate edgy language and humour) impede the automated application of rules. While the Group has developed and implemented certain internal controls, policies and procedures designed to prevent or mitigate employee misconduct or misconduct by third parties, such policies and procedures may not be effective in all instances. For example, it is not always possible to identify and deter misconduct or errors by the Group’s people or third parties and the precautions the Group takes to detect and prevent this activity may not be effective in controlling unknown or unmanaged risks or losses.\n",
      "\n",
      "Model suggest to exclude: The Group’s reputation and brand could also be negatively affected by the actions of customers that fail to comply with the Group’s content rules or which are perceived as inappropriate. Although the Group has content rules for personalised cards and gifts, high output volumes (in particular for cards, of which the Group produced 46 million in the last twelve months ended 31 October 2020) While the Group has developed and implemented certain internal controls, policies and procedures designed to prevent or mitigate employee misconduct or misconduct by third parties, such policies and procedures may not be effective in all instances. The performance and reputation of third-party suppliers in the Group’s third-party supplier and production network could also affect the Group’s brand and reputation, particularly if the Group’s customers and members do not have a positive experience with the services provided by these third parties or if such third-party suppliers experience adverse publicity for any reason. \n",
      "\n",
      "3 out of 9 returns 0.692 BLEU score\n",
      "To be excluded: The Group relies on its technology platforms for the sale of its gifting products in its markets. Most of the Group’s technologies and systems are developed and maintained in-house by the Group, although some are developed and maintained by third parties. These technologies, however, are characterised by constant change and innovation, and the Group expects them to continue to evolve rapidly. The Group’s success has been based on its ability to identify and anticipate the needs of its customers and design a platform that facilitates their ability to make purchases. This includes through its continued development of its customer-facing features that display relevant gifting products in response to customer searches and enhances cross selling, and the use of reminders to customers of occasions and events, as well as the continued development of its back-end features that aim to provide a faster checkout experience, increase the Group’s range and control of promotions and improve pricing and inventory management.\n",
      "\n",
      "Model suggest to exclude: The Group relies on its technology platforms for the sale of its gifting products in its markets. Most of the Group’s technologies and systems are developed and maintained in-house by the Group, although some are developed and maintained by third parties. This includes through its continued development of its customer-facing features that display relevant gifting products in response to customer searches and enhances cross selling, and the use of reminders to customers of occasions and events, as well as the continued development of its back-end features that aim to provide a faster checkout experience, increase the Group’s range and control of promotions and improve pricing and inventory management. \n",
      "\n",
      "4 out of 9 returns 0.518 BLEU score\n",
      "To be excluded: The Group uses a multi-channel marketing strategy to attract and retain customers and increase brand awareness. Some of the Group’s customers locate the Moonpig and Greetz websites through internet search engines, such as Google, as well as through paid TV and radio advertising, pay-per-click advertising through Google and other websites, and pay-per-click and other advertisements on social media websites, such as Facebook and Instagram. The Group also invests in content and other actions to maintain the prominence of the Group’s websites on search engine results pages, which is an important factor in attracting potential customers.\n",
      "\n",
      "Model suggest to exclude: The Group also invests in content and other actions to maintain the prominence of the Group’s websites on search engine results pages, which is an important factor in attracting potential customers. New search engines or social networking websites may develop, including in respect of individual jurisdictions or regions, which may result in reduced traffic on existing search engines and social networking websites, and if the Group is not able to achieve prominence on these new search engines or social networking websites through its marketing, search engine optimisation or otherwise, the Group may not achieve significant traffic to its websites through these new websites, which may have a material adverse effect on the Group’s business, results of operations, financial condition or prospects. \n",
      "\n"
     ]
    },
    {
     "name": "stdout",
     "output_type": "stream",
     "text": [
      "5 out of 9 returns 0.888 BLEU score\n",
      "To be excluded: The higher growth in revenue experienced by the Group during 2020 has been due, in part, to Covid-19 lockdowns and restrictions implemented in the UK, the Netherlands and other jurisdictions where it sells its products, and the resulting shift to online purchases as many retail shops were closed or had limited operations. Certain patterns with respect to the Group’s recent growth as a result of Covid-19, such as accelerated new customer acquisition, increased existing customer retention and reactivation of inactive customers and increased order frequency per customer, are likely to be different moving forward due to the circumstances in which such growth occurred, and the Group does not expect certain aspects of this growth to continue, particularly the rapid acceleration in new customer acquisition and frequency of customer purchases.  The growth in revenue attributed to Covid-19 experienced by the Group in the last part of the year ended 30 April 2020 and for the six months ended 31 October 2020 is not expected to continue indefinitely in future periods. The Group presents various targets in this document relating to the Group’s near- and medium-term financial outlook in respect of revenue, underlying EBITDA margin and other forward-looking performance measures, including in relation to expected customer behaviour. However, as described above, due in part to uncertainty around the continuing and long-term impact of Covid-19 (including that related to national lockdowns in the UK and the States of Guernsey reintroduced in January 2021), it is difficult for the Group to predict how much, or whether any, of the recent growth experienced by the Group will continue and makes the Group’s ability to set near- and medium-term financial targets and other forward-looking performance measures particularly challenging. With that said, the Group’s outlook anticipates a decline in revenue in the year ending 30 April 2022 compared to the year ending 30 April 2021 as the higher levels of purchase frequency seen in the year ending 30 April 2021 are expected to moderate, as well as due to the expected decrease in overall spending from the customer cohort acquired in the year ending April 2021, assuming that the historical cohort spending patterns are observed in this new cohort. The information in respect of the Group’s near- and medium-term financial outlook and other forward-looking performance measures represent the Group’s targets only and should not be relied upon to predict or forecast actual near- and medium-term results or future events. Such targets and beliefs are unaudited and reflect a number of assumptions relating to future orders, frequency of purchases, new customers acquired, retention of previously acquired customers and their purchase behaviour reflecting the historical patterns observed by the Group in the past, the Group’s continued brand strength, market share and capital expenditures, any of which may not be borne out due to both known and unforeseen risks, uncertainties and other important factors beyond the control of the Group that could affect actual results, including understanding the overall impact of Covid-19.\n",
      "\n",
      "Model suggest to exclude: The higher growth in revenue experienced by the Group during 2020 has been due, in part, to Covid-19 lockdowns and restrictions implemented in the UK, the Netherlands and other jurisdictions where it sells its products, and the resulting shift to online purchases as many retail shops were closed or had limited operations. Certain patterns with respect to the Group’s recent growth as a result of Covid-19, such as accelerated new customer acquisition, increased existing customer retention and reactivation of inactive customers and increased order frequency per customer, are likely to be different moving forward due to the circumstances in which such growth occurred, and the Group does not expect certain aspects of this growth to continue, particularly the rapid acceleration in new customer acquisition and frequency of customer purchases. It is difficult for the Group to predict how these recent growth patterns that were driven by Covid 19, particularly as to new customer acquisitions and purchase frequency of customers, will evolve over time and thus what proportion of this growth represented exceptional purchasing by customers during this recent period which is not expected to continue. The growth in revenue attributed to Covid-19 experienced by the Group in the last part of the year ended 30 April 2020 and for the six months ended 31 October 2020 is not expected to continue indefinitely in future periods. However, as described above, due in part to uncertainty around the continuing and long-term impact of Covid-19 (including that related to national lockdowns in the UK and the States of Guernsey reintroduced in January 2021), it is difficult for the Group to predict how much, or whether any, of the recent growth experienced by the Group will continue and makes the Group’s ability to set near- and medium-term financial targets and other forward-looking performance measures particularly challenging. With that said, the Group’s outlook anticipates a decline in revenue in the year ending 30 April 2022 compared to the year ending 30 April 2021 as the higher levels of purchase frequency seen in the year ending 30 April 2021 are expected to moderate, as well as due to the expected decrease in overall spending from the customer cohort acquired in the year ending April 2021, assuming that the historical cohort spending patterns are observed in this new cohort. Such targets and beliefs are unaudited and reflect a number of assumptions relating to future orders, frequency of purchases, new customers acquired, retention of previously acquired customers and their purchase behaviour reflecting the historical patterns observed by the Group in the past, the Group’s continued brand strength, market share and capital expenditures, any of which may not be borne out due to both known and unforeseen risks, uncertainties and other important factors beyond the control of the Group that could affect actual results, including understanding the overall impact of Covid-19. \n",
      "\n",
      "object of type 'float' has no len()\n",
      "7 out of 9 returns 0.612 BLEU score\n",
      "To be excluded: Like many technology-based businesses, the Group and its third-party suppliers have experienced in the past, and may experience in the future, system disruptions that impact its platforms. The Group relies on Amazon Web Services (“ AWS ”), which currently hosts the Group’s Moonpig platform, and the Group expects to integrate the Greetz platform onto the Moonpig platform over time. As a result, the Group is vulnerable to service interruptions at AWS, which could impact the ability of customers to access the Moonpig platform at any time, without interruption or degradation of performance. In the event that there is a lapse of service, interruption of Internet service provider connectivity or damage to such facilities or termination of the Group’s AWS agreements, the Group could experience interruptions in access to its Moonpig platform as well as delays and additional expense in arranging new facilities and services. The Group may also incur significant costs for using an alternative cloud infrastructure provider or taking other actions in preparation for, or in reaction to, events that damage the AWS services used by the Group. The Greetz platform is currently hosted on physical servers in two separate data centres, which are located in external data centres in Amsterdam; these physical servers have less resilience than the cloud-based infrastructure on which the Moonpig platform is hosted, and will be on physical servers until it is migrated onto the Moonpig platform. Additionally, certain of the Group’s third-party providers and the Group’s own operations at the Guernsey production facility are coordinated by the Group’s platforms through the Group’s physical IT infrastructure at the Group’s headquarters, which means any interruption to such IT infrastructure may disrupt the Group’s ability to send orders to its third parties and otherwise manage its operations. The Group’s systems and operations, including those hosted or managed by third parties, are vulnerable to damage or interruption from fire, flood, power loss, telecommunications failure, terrorist attacks, acts of war, electronic and physical break-ins, computer viruses and similar events.\n",
      "\n",
      "Model suggest to exclude: Any disruptions, outages or delays in systems used by the Group, including as a result of security breaches, fire, flood, power loss, telecommunications failure, physical or electronic break-ins, earthquakes, acts of war or terrorism or other events or disruptions, could affect the availability of Group services and platforms and prevent or inhibit the ability of customers to access or complete purchases on its platforms, which, in turn, could materially adversely affect the quality of the Group’s services, its brands and reputation and its ability to generate revenue. Volume of traffic and activity on the Group’s platforms spikes at peak periods, such as Valentine’s Day, Mother’s Day, Father’s Day and Christmas in the United Kingdom, and any disruptions, outages or delays in systems used by the Group would be particularly problematic if it were to occur at such a high-volume time. The Group relies on Amazon Web Services (“ AWS ”), which currently hosts the Group’s Moonpig platform, and the Group expects to integrate the Greetz platform onto the Moonpig platform over time. The Greetz platform is currently hosted on physical servers in two separate data centres, which are located in external data centres in Amsterdam; these physical servers have less resilience than the cloud-based infrastructure on which the Moonpig platform is hosted, and will be on physical servers until it is migrated onto the Moonpig platform. A system failure at one site could result in reduced platform functionality for customers, and a total failure of the Group systems could cause its platforms or apps to be inaccessible by some or all of its customers. \n",
      "\n"
     ]
    },
    {
     "name": "stdout",
     "output_type": "stream",
     "text": [
      "8 out of 9 returns 0.456 BLEU score\n",
      "To be excluded: The Group evaluates third-party suppliers for their ability to meet the specifications of the products they are supplying and to meet requirements for safety, quality and legality throughout the supply chain. The Group currently relies on a single provider for certain products and primary providers for certain warehousing and fulfilment services. For example, Arena Flowers (“ Arena ”) is the Group’s sole third-party provider of flowers in the UK and e-Flora (the e-commerce specialist division of the Dutch Flower Group) is Greetz’s sole supplier of flowers in the Netherlands, and any impairment of Arena’s or e-Flora’s ability to provide flowers could in turn delay or prevent the Group from fulfilling customer orders. In addition to supplying and fulfilling flower orders, Arena has contracts with third-party couriers and arrange the shipping of the products fulfilled by them. In addition, many factors such as weather conditions, agricultural limitations and restrictions relating to the management of pests and disease affect the supply of and the price of flowers. If the supply of flowers available for sale is limited, prices of flowers could rise, which could cause a reduction in customer demand for floral products offered by the Group and adversely affect the Group’s margins if the Group is not able to pass the cost increases on in the form of product price increases. Alternatively, the Group may not be able to obtain high quality flowers in an amount sufficient to meet customer demand. Even if available, flowers from alternative sources may be of lesser quality or may be more expensive than those the Group currently offers. The Group also relies upon a third party as its sole UK producer of “giant” sized cards and another third party as its sole cake and patisserie producer in the Netherlands. Should either of these suppliers operations be slowed, suspended or cease altogether for whatever reason, the Group may be unable to find a replacement third-party supplier without significant interruption to its giant greeting cards product line or cake and baked goods line. Further, the Group has a primary third-party provider to warehouse and fulfil product orders for a number of the Group’s non-personalised gifts sold in the UK. The Group has in the past, and could in the future, experience interruptions or delay in its operations due to incidents that occur at its third-party suppliers that significantly reduce its product offerings for a period of time, including those that arise as a result of security breaches or hacks.\n",
      "\n",
      "Model suggest to exclude: The Group relies on various third parties for the supply and production of a number of its products and recently consolidated its third-party supplier and production network to consolidate its costs and increase the efficiency of its supply chain. The Group currently relies on a single provider for certain products and primary providers for certain warehousing and fulfilment services. For example, Arena Flowers (“ Arena ”) is the Group’s sole third-party provider of flowers in the UK and e-Flora (the e-commerce specialist division of the Dutch Flower Group) is Greetz’s sole supplier of flowers in the Netherlands, and any impairment of Arena’s or e-Flora’s ability to provide flowers In addition, many factors such as weather conditions, agricultural limitations and restrictions relating to the management of pests and disease affect the supply of and the price of flowers. The Group also relies upon a third party as its sole UK producer of “giant” sized cards and another third party as its sole cake and patisserie producer in the Netherlands. Further, the Group has a primary third-party provider to warehouse and fulfil product orders for a number of the Group’s non-personalised gifts sold in the UK. \n",
      "\n"
     ]
    }
   ],
   "source": [
    "arr3 = []\n",
    "for i in range(len(df2)):\n",
    "    try:\n",
    "        txt = df2.iloc[i][0]\n",
    "        expect = df2.iloc[i][2]\n",
    "        ex = excl(txt)\n",
    "        r = bleu.corpus_bleu([[ex]], [expect])\n",
    "        print(f'{i} out of {len(df2)} returns {r:.3f} BLEU score\\nTo be excluded: {expect}\\n\\nModel suggest to exclude: {ex}\\n')\n",
    "        arr3.append(r)\n",
    "    except Exception as e:\n",
    "        print(e)"
   ]
  },
  {
   "cell_type": "code",
   "execution_count": 133,
   "metadata": {},
   "outputs": [
    {
     "data": {
      "image/png": "[encoded data removed]",
      "text/plain": [
       "<Figure size 432x288 with 1 Axes>"
      ]
     },
     "metadata": {
      "needs_background": "light"
     },
     "output_type": "display_data"
    }
   ],
   "source": [
    "import matplotlib.pyplot as plt\n",
    "import numpy as np\n",
    "\n",
    "fig = plt.figure()\n",
    "plt.bar(np.arange(len(arr3)), arr3, align='center', alpha=0.5)\n",
    "plt.title('BLEU metric for extractive generalisation')\n",
    "plt.ylabel('BLEU')\n",
    "fig.savefig('bleu.png')\n",
    "plt.show()"
   ]
  },
  {
   "cell_type": "code",
   "execution_count": null,
   "metadata": {},
   "outputs": [],
   "source": []
  }
 ],
 "metadata": {
  "kernelspec": {
   "display_name": "Python 3 (ipykernel)",
   "language": "python",
   "name": "python3"
  },
  "language_info": {
   "codemirror_mode": {
    "name": "ipython",
    "version": 3
   },
   "file_extension": ".py",
   "mimetype": "text/x-python",
   "name": "python",
   "nbconvert_exporter": "python",
   "pygments_lexer": "ipython3",
   "version": "3.9.2"
  }
 },
 "nbformat": 4,
 "nbformat_minor": 2
}
