{
 "cells": [
  {
   "cell_type": "markdown",
   "metadata": {},
   "source": [
    "## Import Library"
   ]
  },
  {
   "cell_type": "code",
   "execution_count": 8,
   "metadata": {},
   "outputs": [],
   "source": [
    "# https://towardsdatascience.com/abstractive-summarization-using-pytorch-f5063e67510\n",
    "# https://towardsdatascience.com/top-nlp-libraries-to-use-2020-4f700cdb841f\n",
    "from transformers import pipeline\n",
    "import os"
   ]
  },
  {
   "cell_type": "markdown",
   "metadata": {},
   "source": [
    "## Setting GPU and Model to Use"
   ]
  },
  {
   "cell_type": "code",
   "execution_count": 9,
   "metadata": {},
   "outputs": [
    {
     "name": "stderr",
     "output_type": "stream",
     "text": [
      "No model was supplied, defaulted to sshleifer/distilbart-cnn-12-6 (https://huggingface.co/sshleifer/distilbart-cnn-12-6)\n"
     ]
    }
   ],
   "source": [
    "## Setting to use the 0th GPU\n",
    "os.environ[\"CUDA_VISIBLE_DEVICES\"] = \"0\"\n",
    "\n",
    "## Setting to use the bart-large-cnn model for summarization\n",
    "summarizer = pipeline(\"summarization\")\n",
    "\n",
    "## To use the t5-base model for summarization:\n",
    "## summarizer = pipeline(\"summarization\", model=\"t5-base\", tokenizer=\"t5-base\", framework=\"tf\")"
   ]
  },
  {
   "cell_type": "code",
   "execution_count": 3,
   "metadata": {},
   "outputs": [],
   "source": [
    "import pandas as pd"
   ]
  },
  {
   "cell_type": "code",
   "execution_count": 4,
   "metadata": {},
   "outputs": [],
   "source": [
    "df = pd.read_csv('../data/Dataset.csv')"
   ]
  },
  {
   "cell_type": "code",
   "execution_count": 5,
   "metadata": {},
   "outputs": [
    {
     "data": {
      "text/plain": [
       "Index(['Ref', 'Original text',\n",
       "       'Abstractive summarization (extremely short version - will require longer version in practice)',\n",
       "       'Extractive generalization (highlighting information that is company-specific)'],\n",
       "      dtype='object')"
      ]
     },
     "execution_count": 5,
     "metadata": {},
     "output_type": "execute_result"
    }
   ],
   "source": [
    "df.columns"
   ]
  },
  {
   "cell_type": "code",
   "execution_count": 2,
   "metadata": {},
   "outputs": [
    {
     "name": "stderr",
     "output_type": "stream",
     "text": [
      "/home/tur/.local/lib/python3.9/site-packages/spacy/util.py:865: UserWarning: [W095] Model 'en_core_web_sm' (3.2.0) was trained with spaCy v3.2 and may not be 100% compatible with the current version (3.4.1). If you see errors or degraded performance, download a newer compatible model or retrain your custom model with the current spaCy version. For more details and available updates, run: python -m spacy validate\n",
      "  warnings.warn(warn_msg)\n"
     ]
    }
   ],
   "source": [
    "#!pip3 install spacy\n",
    "import spacy\n",
    "nlp = spacy.load(\"en_core_web_sm\")"
   ]
  },
  {
   "cell_type": "markdown",
   "metadata": {},
   "source": [
    "## Input the Text to Summarize"
   ]
  },
  {
   "cell_type": "markdown",
   "metadata": {},
   "source": [
    "## Summarize"
   ]
  },
  {
   "cell_type": "code",
   "execution_count": 14,
   "metadata": {},
   "outputs": [
    {
     "name": "stderr",
     "output_type": "stream",
     "text": [
      "/tmp/ipykernel_227891/2100162076.py:8: UserWarning: [W007] The model you're using has no word vectors loaded, so the result of the Doc.similarity method will be based on the tagger, parser and NER, which may not give useful similarity judgements. This may happen if you're using one of the small models, e.g. `en_core_web_sm`, which don't ship with word vectors and only use context-sensitive tensors. You can always add your own word vectors, or use one of the larger models instead if available.\n",
      "  r = t1.similarity(t2)\n"
     ]
    },
    {
     "name": "stdout",
     "output_type": "stream",
     "text": [
      "0 out of 47 returns 0.902\n",
      "1 out of 47 returns 0.850\n",
      "2 out of 47 returns 0.872\n",
      "3 out of 47 returns 0.913\n",
      "4 out of 47 returns 0.851\n",
      "5 out of 47 returns 0.878\n",
      "6 out of 47 returns 0.819\n",
      "7 out of 47 returns 0.902\n",
      "8 out of 47 returns 0.927\n",
      "9 out of 47 returns 0.783\n",
      "10 out of 47 returns 0.836\n",
      "11 out of 47 returns 0.934\n",
      "12 out of 47 returns 0.908\n",
      "13 out of 47 returns 0.882\n",
      "14 out of 47 returns 0.939\n",
      "15 out of 47 returns 0.868\n",
      "16 out of 47 returns 0.947\n",
      "17 out of 47 returns 0.899\n",
      "18 out of 47 returns 0.914\n",
      "19 out of 47 returns 0.889\n",
      "20 out of 47 returns 0.950\n",
      "21 out of 47 returns 0.820\n",
      "22 out of 47 returns 0.696\n",
      "index out of range in self\n",
      "24 out of 47 returns 0.902\n",
      "25 out of 47 returns 0.897\n",
      "index out of range in self\n",
      "27 out of 47 returns 0.928\n",
      "28 out of 47 returns 0.846\n",
      "29 out of 47 returns 0.906\n",
      "30 out of 47 returns 0.892\n",
      "31 out of 47 returns 0.842\n",
      "32 out of 47 returns 0.895\n",
      "33 out of 47 returns 0.937\n",
      "34 out of 47 returns 0.889\n",
      "35 out of 47 returns 0.900\n",
      "36 out of 47 returns 0.849\n"
     ]
    },
    {
     "name": "stderr",
     "output_type": "stream",
     "text": [
      "Your max_length is set to 100, but you input_length is only 92. You might consider decreasing max_length manually, e.g. summarizer('...', max_length=46)\n"
     ]
    },
    {
     "name": "stdout",
     "output_type": "stream",
     "text": [
      "37 out of 47 returns 0.868\n",
      "38 out of 47 returns 0.926\n",
      "39 out of 47 returns 0.853\n",
      "40 out of 47 returns 0.959\n"
     ]
    },
    {
     "name": "stderr",
     "output_type": "stream",
     "text": [
      "Your max_length is set to 100, but you input_length is only 87. You might consider decreasing max_length manually, e.g. summarizer('...', max_length=43)\n"
     ]
    },
    {
     "name": "stdout",
     "output_type": "stream",
     "text": [
      "41 out of 47 returns 0.858\n"
     ]
    },
    {
     "name": "stderr",
     "output_type": "stream",
     "text": [
      "Your max_length is set to 100, but you input_length is only 87. You might consider decreasing max_length manually, e.g. summarizer('...', max_length=43)\n"
     ]
    },
    {
     "name": "stdout",
     "output_type": "stream",
     "text": [
      "42 out of 47 returns 0.876\n",
      "43 out of 47 returns 0.949\n",
      "44 out of 47 returns 0.920\n",
      "45 out of 47 returns 0.867\n",
      "46 out of 47 returns 0.885\n"
     ]
    }
   ],
   "source": [
    "arr = []\n",
    "for i in range(len(df)):\n",
    "    try:\n",
    "        txt = df.iloc[i][1]\n",
    "        sm = summarizer(txt, max_length=100, min_length=5, do_sample=False)[0]['summary_text']\n",
    "        t1 = nlp(txt)\n",
    "        t2 = nlp(sm)\n",
    "        r = t1.similarity(t2)\n",
    "        print(f'{i} out of {len(df)} returns {r:.3f}')\n",
    "        arr.append(r)\n",
    "    except Exception as e:\n",
    "        print(e)"
   ]
  },
  {
   "cell_type": "code",
   "execution_count": 15,
   "metadata": {},
   "outputs": [
    {
     "data": {
      "text/plain": [
       "[0.9024674740777809,\n",
       " 0.8501813568845982,\n",
       " 0.8724267508311823,\n",
       " 0.9125510488197067,\n",
       " 0.8508554265857649,\n",
       " 0.8781351583805189,\n",
       " 0.8185378481191676,\n",
       " 0.9016483608026188,\n",
       " 0.9265233518840827,\n",
       " 0.7828232443840935,\n",
       " 0.8360661688959748,\n",
       " 0.9339693217668452,\n",
       " 0.9080610542294494,\n",
       " 0.8816689409433155,\n",
       " 0.9389088744099089,\n",
       " 0.8683713778579123,\n",
       " 0.9473914568183917,\n",
       " 0.8990092546155641,\n",
       " 0.9138502697632371,\n",
       " 0.8893146395608507,\n",
       " 0.9499029074144072,\n",
       " 0.8197605218828974,\n",
       " 0.6956541951986822,\n",
       " 0.9016842545310723,\n",
       " 0.8972102948473875,\n",
       " 0.9276831336546075,\n",
       " 0.8463216737173981,\n",
       " 0.905822221946734,\n",
       " 0.8918379732363323,\n",
       " 0.8420014398798185,\n",
       " 0.8947957394906886,\n",
       " 0.9365330383173034,\n",
       " 0.8888862893535328,\n",
       " 0.8996022845225323,\n",
       " 0.8492829384010149,\n",
       " 0.8684360302129666,\n",
       " 0.9260111203435334,\n",
       " 0.853467920476052,\n",
       " 0.9590465726455281,\n",
       " 0.8575623189192939,\n",
       " 0.8761062523158887,\n",
       " 0.9494696665131844,\n",
       " 0.9198727144058678,\n",
       " 0.8669538166086284,\n",
       " 0.8852839607434201]"
      ]
     },
     "execution_count": 15,
     "metadata": {},
     "output_type": "execute_result"
    }
   ],
   "source": [
    "arr"
   ]
  },
  {
   "cell_type": "code",
   "execution_count": 16,
   "metadata": {},
   "outputs": [
    {
     "data": {
      "image/png": "[encoded data removed]",
      "text/plain": [
       "<Figure size 432x288 with 1 Axes>"
      ]
     },
     "metadata": {},
     "output_type": "display_data"
    }
   ],
   "source": [
    "import seaborn as sns\n",
    "sns.set_theme(style=\"whitegrid\")\n",
    "ax = sns.barplot(data=arr)"
   ]
  },
  {
   "cell_type": "code",
   "execution_count": 23,
   "metadata": {},
   "outputs": [
    {
     "data": {
      "image/png": "[encoded data removed]",
      "text/plain": [
       "<Figure size 432x288 with 1 Axes>"
      ]
     },
     "metadata": {},
     "output_type": "display_data"
    }
   ],
   "source": [
    "import matplotlib.pyplot as plt\n",
    "import numpy as np\n",
    "plt.bar(np.arange(len(arr)), arr, align='center', alpha=0.5)\n",
    "plt.title('Similarity metric for abstractive summarization\\nbased on transformers')\n",
    "plt.ylabel('similarity')\n",
    "plt.show()"
   ]
  },
  {
   "cell_type": "code",
   "execution_count": 24,
   "metadata": {},
   "outputs": [],
   "source": [
    "from spacy.lang.en.stop_words import STOP_WORDS\n",
    "from string import punctuation\n",
    "from collections import Counter\n",
    "from heapq import nlargest"
   ]
  },
  {
   "cell_type": "code",
   "execution_count": 26,
   "metadata": {},
   "outputs": [],
   "source": [
    "def sm2(txt): \n",
    "    doc = nlp(re.sub(r'\\n',' ',txt))\n",
    "    keyword = []\n",
    "    stopwords = list(STOP_WORDS)\n",
    "    pos_tag = ['PROPN', 'ADJ', 'NOUN', 'VERB']\n",
    "    for token in doc:\n",
    "        if(token.text in stopwords or token.text in punctuation):\n",
    "            continue\n",
    "        if(token.pos_ in pos_tag):\n",
    "            keyword.append(token.text)\n",
    "    freq_word = Counter(keyword)\n",
    "\n",
    "    max_freq = Counter(keyword).most_common(1)[0][1]\n",
    "    for word in freq_word.keys():  \n",
    "        freq_word[word] = (freq_word[word]/max_freq)\n",
    "    freq_word.most_common(5)\n",
    "\n",
    "    sent_strength={}\n",
    "    for sent in doc.sents:\n",
    "        for word in sent:\n",
    "            if word.text in freq_word.keys():\n",
    "                if sent in sent_strength.keys():\n",
    "                    sent_strength[sent]+=freq_word[word.text]\n",
    "                else:\n",
    "                    sent_strength[sent]=freq_word[word.text]\n",
    "\n",
    "    summarized_sentences = nlargest(3, sent_strength, key=sent_strength.get)\n",
    "    # summary\n",
    "    final_sentences = [ w.text for w in summarized_sentences ]\n",
    "    summary = ' '.join(final_sentences)\n",
    "    return(summary)"
   ]
  },
  {
   "cell_type": "code",
   "execution_count": 31,
   "metadata": {},
   "outputs": [
    {
     "name": "stderr",
     "output_type": "stream",
     "text": [
      "/tmp/ipykernel_227891/2978185231.py:9: UserWarning: [W007] The model you're using has no word vectors loaded, so the result of the Doc.similarity method will be based on the tagger, parser and NER, which may not give useful similarity judgements. This may happen if you're using one of the small models, e.g. `en_core_web_sm`, which don't ship with word vectors and only use context-sensitive tensors. You can always add your own word vectors, or use one of the larger models instead if available.\n",
      "  r = t1.similarity(t2)\n"
     ]
    },
    {
     "name": "stdout",
     "output_type": "stream",
     "text": [
      "0 out of 47 returns 0.957\n",
      "1 out of 47 returns 0.985\n",
      "2 out of 47 returns 0.923\n",
      "3 out of 47 returns 0.962\n",
      "4 out of 47 returns 0.959\n",
      "5 out of 47 returns 0.979\n",
      "6 out of 47 returns 0.944\n",
      "7 out of 47 returns 0.972\n",
      "8 out of 47 returns 0.939\n",
      "9 out of 47 returns 0.980\n",
      "10 out of 47 returns 0.973\n",
      "11 out of 47 returns 0.970\n",
      "12 out of 47 returns 0.945\n",
      "13 out of 47 returns 0.992\n",
      "14 out of 47 returns 0.993\n",
      "15 out of 47 returns 0.959\n",
      "16 out of 47 returns 0.989\n",
      "17 out of 47 returns 0.964\n",
      "18 out of 47 returns 0.983\n",
      "19 out of 47 returns 0.967\n",
      "20 out of 47 returns 1.000\n",
      "21 out of 47 returns 0.956\n",
      "22 out of 47 returns 0.998\n",
      "23 out of 47 returns 0.938\n",
      "24 out of 47 returns 0.977\n",
      "25 out of 47 returns 0.975\n",
      "26 out of 47 returns 0.946\n",
      "27 out of 47 returns 0.964\n",
      "28 out of 47 returns 0.952\n",
      "29 out of 47 returns 0.964\n",
      "30 out of 47 returns 0.939\n",
      "31 out of 47 returns 0.974\n",
      "32 out of 47 returns 0.983\n",
      "33 out of 47 returns 0.990\n",
      "34 out of 47 returns 0.974\n",
      "35 out of 47 returns 0.961\n",
      "36 out of 47 returns 0.973\n",
      "37 out of 47 returns 0.984\n",
      "38 out of 47 returns 1.000\n",
      "39 out of 47 returns 0.968\n",
      "40 out of 47 returns 0.994\n",
      "41 out of 47 returns 0.970\n",
      "42 out of 47 returns 1.000\n",
      "43 out of 47 returns 1.000\n",
      "44 out of 47 returns 0.991\n",
      "45 out of 47 returns 0.981\n",
      "46 out of 47 returns 0.987\n"
     ]
    }
   ],
   "source": [
    "import re\n",
    "arr2 = []\n",
    "for i in range(len(df)):\n",
    "    try:\n",
    "        txt = df.iloc[i][1]\n",
    "        sm = sm2(txt)\n",
    "        t1 = nlp(txt)\n",
    "        t2 = nlp(sm)\n",
    "        r = t1.similarity(t2)\n",
    "        print(f'{i} out of {len(df)} returns {r:.3f}')\n",
    "        arr2.append(r)\n",
    "    except Exception as e:\n",
    "        print(e)"
   ]
  },
  {
   "cell_type": "code",
   "execution_count": 33,
   "metadata": {},
   "outputs": [
    {
     "data": {
      "image/png": "[encoded data removed]",
      "text/plain": [
       "<Figure size 432x288 with 1 Axes>"
      ]
     },
     "metadata": {},
     "output_type": "display_data"
    }
   ],
   "source": [
    "plt.bar(np.arange(len(arr2)), arr2, align='center', alpha=0.5)\n",
    "plt.title('Similarity metric for extractive summarization\\nbased on TF-IDF')\n",
    "plt.ylabel('similarity')\n",
    "plt.show()"
   ]
  },
  {
   "cell_type": "code",
   "execution_count": 34,
   "metadata": {},
   "outputs": [],
   "source": [
    "# extractive generalisation"
   ]
  },
  {
   "cell_type": "code",
   "execution_count": 35,
   "metadata": {},
   "outputs": [],
   "source": [
    "df2 = pd.read_csv('../data/generalisation.csv')"
   ]
  },
  {
   "cell_type": "code",
   "execution_count": 36,
   "metadata": {},
   "outputs": [
    {
     "data": {
      "text/html": [
       "<div>\n",
       "<style scoped>\n",
       "    .dataframe tbody tr th:only-of-type {\n",
       "        vertical-align: middle;\n",
       "    }\n",
       "\n",
       "    .dataframe tbody tr th {\n",
       "        vertical-align: top;\n",
       "    }\n",
       "\n",
       "    .dataframe thead th {\n",
       "        text-align: right;\n",
       "    }\n",
       "</style>\n",
       "<table border=\"1\" class=\"dataframe\">\n",
       "  <thead>\n",
       "    <tr style=\"text-align: right;\">\n",
       "      <th></th>\n",
       "      <th>Original text</th>\n",
       "      <th>\"Abstractive summarization (extremely short version - will require longer version in practice)\"</th>\n",
       "      <th>\"Extractive generalization (information that is company-specific)\"</th>\n",
       "    </tr>\n",
       "  </thead>\n",
       "  <tbody>\n",
       "    <tr>\n",
       "      <th>0</th>\n",
       "      <td>The Group competes in the gifting market (the ...</td>\n",
       "      <td>The Group faces significant competition for it...</td>\n",
       "      <td>The Group faces significant competition from a...</td>\n",
       "    </tr>\n",
       "    <tr>\n",
       "      <th>1</th>\n",
       "      <td>The Group’s success depends on its ability to ...</td>\n",
       "      <td>The Group’s efforts to retain existing custome...</td>\n",
       "      <td>The Group benefits from current cultural pract...</td>\n",
       "    </tr>\n",
       "    <tr>\n",
       "      <th>2</th>\n",
       "      <td>Maintaining, protecting and enhancing the Grou...</td>\n",
       "      <td>The Group’s business depends on the strength o...</td>\n",
       "      <td>The Group’s customers may post negative review...</td>\n",
       "    </tr>\n",
       "    <tr>\n",
       "      <th>3</th>\n",
       "      <td>The Group relies on its technology platforms f...</td>\n",
       "      <td>A failure of the Group to improve and enhance ...</td>\n",
       "      <td>The Group relies on its technology platforms f...</td>\n",
       "    </tr>\n",
       "    <tr>\n",
       "      <th>4</th>\n",
       "      <td>The Group uses a multi-channel marketing strat...</td>\n",
       "      <td>If the Group’s customer acquisition costs incr...</td>\n",
       "      <td>The Group uses a multi-channel marketing strat...</td>\n",
       "    </tr>\n",
       "    <tr>\n",
       "      <th>5</th>\n",
       "      <td>The higher growth in revenue experienced by th...</td>\n",
       "      <td>The Group’s business has experienced rapid gro...</td>\n",
       "      <td>The higher growth in revenue experienced by th...</td>\n",
       "    </tr>\n",
       "    <tr>\n",
       "      <th>6</th>\n",
       "      <td>The Group’s success depends in part on the con...</td>\n",
       "      <td>The Group’s success depends on the continued g...</td>\n",
       "      <td>NaN</td>\n",
       "    </tr>\n",
       "    <tr>\n",
       "      <th>7</th>\n",
       "      <td>The Group’s brand, reputation and ability to a...</td>\n",
       "      <td>Any significant disruption in service on the G...</td>\n",
       "      <td>Like many technology-based businesses, the Gro...</td>\n",
       "    </tr>\n",
       "    <tr>\n",
       "      <th>8</th>\n",
       "      <td>The Group relies on various third parties for ...</td>\n",
       "      <td>The Group relies on various third parties for ...</td>\n",
       "      <td>The Group evaluates third-party suppliers for ...</td>\n",
       "    </tr>\n",
       "  </tbody>\n",
       "</table>\n",
       "</div>"
      ],
      "text/plain": [
       "                                       Original text  \\\n",
       "0  The Group competes in the gifting market (the ...   \n",
       "1  The Group’s success depends on its ability to ...   \n",
       "2  Maintaining, protecting and enhancing the Grou...   \n",
       "3  The Group relies on its technology platforms f...   \n",
       "4  The Group uses a multi-channel marketing strat...   \n",
       "5  The higher growth in revenue experienced by th...   \n",
       "6  The Group’s success depends in part on the con...   \n",
       "7  The Group’s brand, reputation and ability to a...   \n",
       "8  The Group relies on various third parties for ...   \n",
       "\n",
       "   \"Abstractive summarization (extremely short version - will require longer version in practice)\"  \\\n",
       "0  The Group faces significant competition for it...                                                 \n",
       "1  The Group’s efforts to retain existing custome...                                                 \n",
       "2  The Group’s business depends on the strength o...                                                 \n",
       "3  A failure of the Group to improve and enhance ...                                                 \n",
       "4  If the Group’s customer acquisition costs incr...                                                 \n",
       "5  The Group’s business has experienced rapid gro...                                                 \n",
       "6  The Group’s success depends on the continued g...                                                 \n",
       "7  Any significant disruption in service on the G...                                                 \n",
       "8  The Group relies on various third parties for ...                                                 \n",
       "\n",
       "   \"Extractive generalization (information that is company-specific)\"  \n",
       "0  The Group faces significant competition from a...                   \n",
       "1  The Group benefits from current cultural pract...                   \n",
       "2  The Group’s customers may post negative review...                   \n",
       "3  The Group relies on its technology platforms f...                   \n",
       "4  The Group uses a multi-channel marketing strat...                   \n",
       "5  The higher growth in revenue experienced by th...                   \n",
       "6                                                NaN                   \n",
       "7  Like many technology-based businesses, the Gro...                   \n",
       "8  The Group evaluates third-party suppliers for ...                   "
      ]
     },
     "execution_count": 36,
     "metadata": {},
     "output_type": "execute_result"
    }
   ],
   "source": [
    "df2"
   ]
  },
  {
   "cell_type": "code",
   "execution_count": 39,
   "metadata": {},
   "outputs": [],
   "source": [
    "def excl(txt):\n",
    "    excl = \"\"\n",
    "    doc = nlp(txt)\n",
    "    for i, s in enumerate(doc.sents):\n",
    "        for token in s:\n",
    "            if token.ent_type_ in ['GPE', 'NORP'] or token.pos_ == 'NUM': # or ORG >1 ?\n",
    "                #print(token.text, token.ent_type_)\n",
    "                excl += s.text\n",
    "                #print(f'Excluded sentence {i}: {s}')\n",
    "                break\n",
    "    return excl"
   ]
  },
  {
   "cell_type": "code",
   "execution_count": 40,
   "metadata": {},
   "outputs": [
    {
     "data": {
      "text/plain": [
       "'Within each of the UK and the Netherlands, the Group has benefited from its strong positions in the gifting market, but competition could intensify as traditional retailers expand their digital, online and app-based sales capabilities and potential new competitors enter the gifting market.'"
      ]
     },
     "execution_count": 40,
     "metadata": {},
     "output_type": "execute_result"
    }
   ],
   "source": [
    "excl(df2.iloc[0][0])"
   ]
  },
  {
   "cell_type": "code",
   "execution_count": 42,
   "metadata": {},
   "outputs": [],
   "source": [
    "import nltk\n",
    "import nltk.translate.bleu_score as bleu\n",
    "\n",
    "import math\n",
    "import numpy\n",
    "import os"
   ]
  },
  {
   "cell_type": "markdown",
   "metadata": {},
   "source": [
    "*Corpus* score calculation\n",
    "*Compares 1 candidate document with multiple sentence and 1+ reference documents also with multiple sentences.*\n",
    "* Different than averaging BLEU scores of each sentence, it calculates the score by *\"summing the numerators and denominators for each hypothesis-reference(s) pairs before the division\"*"
   ]
  },
  {
   "cell_type": "code",
   "execution_count": 44,
   "metadata": {},
   "outputs": [],
   "source": [
    "#score_ref_a = bleu.corpus_bleu([[ref_a]], [hyp])\n",
    "#print(\"1 document with 1 reference sentence: {}\".format(score_ref_a))"
   ]
  },
  {
   "cell_type": "code",
   "execution_count": 50,
   "metadata": {},
   "outputs": [
    {
     "name": "stdout",
     "output_type": "stream",
     "text": [
      "0 out of 9 returns 0.077 BLEU score\n",
      "1 out of 9 returns 0.417 BLEU score\n",
      "2 out of 9 returns 0.046 BLEU score\n",
      "3 out of 9 returns 0.000 BLEU score\n",
      "4 out of 9 returns 0.000 BLEU score\n",
      "5 out of 9 returns 0.403 BLEU score\n",
      "6 out of 9 returns 0.211 BLEU score\n",
      "7 out of 9 returns 0.195 BLEU score\n",
      "8 out of 9 returns 0.161 BLEU score\n"
     ]
    }
   ],
   "source": [
    "arr3 = []\n",
    "for i in range(len(df2)):\n",
    "    try:\n",
    "        txt = df.iloc[i][1]\n",
    "        #print(txt)\n",
    "        ex = excl(txt)\n",
    "        #print(ex)\n",
    "        r = bleu.corpus_bleu([[ex]], [txt])\n",
    "        print(f'{i} out of {len(df2)} returns {r:.3f} BLEU score')\n",
    "        arr3.append(r)\n",
    "    except Exception as e:\n",
    "        print(e)"
   ]
  },
  {
   "cell_type": "code",
   "execution_count": 53,
   "metadata": {},
   "outputs": [
    {
     "data": {
      "image/png": "[encoded data removed]",
      "text/plain": [
       "<Figure size 432x288 with 1 Axes>"
      ]
     },
     "metadata": {},
     "output_type": "display_data"
    }
   ],
   "source": [
    "fig = plt.figure()\n",
    "plt.bar(np.arange(len(arr3)), arr3, align='center', alpha=0.5)\n",
    "plt.title('BLEU metric for extractive generalisation\\nbased on TF-IDF')\n",
    "plt.ylabel('similarity')\n",
    "fig.savefig('bleu.png')\n",
    "plt.show()"
   ]
  },
  {
   "cell_type": "code",
   "execution_count": null,
   "metadata": {},
   "outputs": [],
   "source": []
  }
 ],
 "metadata": {
  "kernelspec": {
   "display_name": "Python 3 (ipykernel)",
   "language": "python",
   "name": "python3"
  },
  "language_info": {
   "codemirror_mode": {
    "name": "ipython",
    "version": 3
   },
   "file_extension": ".py",
   "mimetype": "text/x-python",
   "name": "python",
   "nbconvert_exporter": "python",
   "pygments_lexer": "ipython3",
   "version": "3.9.2"
  }
 },
 "nbformat": 4,
 "nbformat_minor": 2
}
