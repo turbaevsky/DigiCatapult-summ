{
 "cells": [
  {
   "cell_type": "code",
   "execution_count": null,
   "id": "a4ac0c37",
   "metadata": {},
   "outputs": [],
   "source": [
    "# https://medium.com/codex/build-an-automatic-abstractive-text-summarizer-in-ten-minutes-f15f07e54bae\n",
    "# https://ai.googleblog.com/2020/06/pegasus-state-of-art-model-for.html"
   ]
  },
  {
   "cell_type": "code",
   "execution_count": 9,
   "id": "4b4d0118",
   "metadata": {},
   "outputs": [],
   "source": [
    "#!pip3 install torch torchvision torchaudio\n",
    "#!pip3 install transformers\n",
    "#!pip3 install sentencepiece"
   ]
  },
  {
   "cell_type": "code",
   "execution_count": 1,
   "id": "33fa2f45",
   "metadata": {},
   "outputs": [],
   "source": [
    "from transformers import PegasusForConditionalGeneration, PegasusTokenizer\n",
    "import torch"
   ]
  },
  {
   "cell_type": "code",
   "execution_count": null,
   "id": "162ce24d",
   "metadata": {},
   "outputs": [],
   "source": [
    "model_name = 'google/pegasus-xsum'\n",
    "torch_device = 'cuda' if torch.cuda.is_available() else 'cpu'\n",
    "tokenizer = PegasusTokenizer.from_pretrained(model_name)\n",
    "model = PegasusForConditionalGeneration.from_pretrained(model_name).to(torch_device)"
   ]
  },
  {
   "cell_type": "code",
   "execution_count": null,
   "id": "56d50688",
   "metadata": {},
   "outputs": [],
   "source": [
    "src_text = [\n",
    "    \"\"\"The Group competes in the gifting market (the “ gifting market ”), which is large, evolving and highly competitive and includes the sale of greeting cards and\n",
    "gifts. The Group faces significant competition from a wide range of companies, ranging from traditional brick and mortar competitors that serve the offline\n",
    "channel to other online gifting companies. The Group’s offline competitors include specialist greeting cards, supermarkets and other retailers, generalists,\n",
    "stationers, discount chains and florists. The Group also competes with online greeting card companies; online flower specialists; and online gift specialists.\n",
    "Some of the Group’s competitors, particularly supermarkets, general merchandise discounters and stationery retailers, may have larger and broader\n",
    "customer bases, wider distribution channels, substantially greater financial, technical or marketing resources, stronger brand or name recognition or a lower\n",
    "cost base than the Group. Some of the Group’s competitors may have greater research and development resources and be able to adapt to changes in\n",
    "customer requirements, customer preferences or attitudes toward design content and gifting products faster, launch innovative products more quickly, more\n",
    "readily take advantage of acquisitions and other opportunities, or have more established relationships with third-party suppliers, which could result in the\n",
    "Group not being able to compete as effectively and lose its market position. The Group’s competitors may also aggressively discount their products in order\n",
    "to gain market share, which could result in pricing pressures, reduced profit margins, lost market share, or a failure to grow market share for the Group.\n",
    "Within each of the UK and the Netherlands, the Group has benefited from its strong positions in the gifting market, but competition could intensify as\n",
    "traditional retailers expand their digital, online and app-based sales capabilities and potential new competitors enter the gifting market. The Group could\n",
    "face an increase in online competition as a result of competitors prioritising investments in new or improved online platforms to deal with disruptions faced\n",
    "as a result of the novel strain of coronavirus causing Covid-19 disease (“ Covid-19 ”) and the expected continued shift to online purchasing, which may\n",
    "make it more difficult for the Group to maintain its market share. The Group competes, and could increasingly compete in the future, with alternatives or\n",
    "substitutes to the Group’s products, whether that is the increasing use of electronic gift cards as substitutes for physical gifts, social media or other\n",
    "companies that host and enable the posting of greetings, images, electronic or other gifts, e-cards or other innovations and developments. In addition, the\n",
    "Group competes and may increasingly compete in the future with alternative business models that serve the gifting markets, including greeting card\n",
    "subscription services, flower subscription services, or apps or websites that provide free products (only charging for any up-sells of attachments to the free\n",
    "base product) that compete or may serve as a substitute to the Group’s gifting products. If such alternative communications media or substitutions for the\n",
    "Group’s products appeal more to the Group’s existing customers or potential customers and the Group fails to innovate its product offering in a manner that\n",
    "continues to be attractive to its customers or enables the Group to maintain its existing margins, the Group may be unable to compete effectively. If the\n",
    "Group is not able to compete effectively against its current or potential competitors, this could have a material adverse effect on the Group’s business,\n",
    "results of operations, financial condition or prospects.\"\"\"\n",
    "]\n",
    "\n",
    "\n",
    "batch = tokenizer.prepare_seq2seq_batch(src_text, truncation=True, padding='longest',return_tensors='pt')\n",
    "translated = model.generate(**batch)\n",
    "tgt_text = tokenizer.batch_decode(translated, skip_special_tokens=True)"
   ]
  },
  {
   "cell_type": "code",
   "execution_count": 5,
   "id": "55795fa3",
   "metadata": {},
   "outputs": [
    {
     "name": "stdout",
     "output_type": "stream",
     "text": [
      "['This is the story of how i ended up with a nasty gash on my leg.']\n"
     ]
    }
   ],
   "source": [
    "print(tgt_text)"
   ]
  },
  {
   "cell_type": "code",
   "execution_count": null,
   "id": "9a33ca33",
   "metadata": {},
   "outputs": [],
   "source": []
  },
  {
   "cell_type": "code",
   "execution_count": null,
   "id": "e2e14943",
   "metadata": {},
   "outputs": [],
   "source": []
  },
  {
   "cell_type": "code",
   "execution_count": 10,
   "id": "1175e615",
   "metadata": {},
   "outputs": [],
   "source": [
    "text = ['''The Group competes in the gifting market (the “ gifting market ”), which is large, evolving and highly competitive and includes the sale of greeting cards and\n",
    "gifts. The Group faces significant competition from a wide range of companies, ranging from traditional brick and mortar competitors that serve the offline\n",
    "channel to other online gifting companies. The Group’s offline competitors include specialist greeting cards, supermarkets and other retailers, generalists,\n",
    "stationers, discount chains and florists. The Group also competes with online greeting card companies; online flower specialists; and online gift specialists.\n",
    "Some of the Group’s competitors, particularly supermarkets, general merchandise discounters and stationery retailers, may have larger and broader\n",
    "customer bases, wider distribution channels, substantially greater financial, technical or marketing resources, stronger brand or name recognition or a lower\n",
    "cost base than the Group. Some of the Group’s competitors may have greater research and development resources and be able to adapt to changes in\n",
    "customer requirements, customer preferences or attitudes toward design content and gifting products faster, launch innovative products more quickly, more\n",
    "readily take advantage of acquisitions and other opportunities, or have more established relationships with third-party suppliers, which could result in the\n",
    "Group not being able to compete as effectively and lose its market position.The Group’s competitors may also aggressively discount their products in order\n",
    "to gain market share, which could result in pricing pressures, reduced profit margins, lost market share, or a failure to grow market share for the Group.\n",
    "Within each of the UK and the Netherlands, the Group has benefited from its strong positions in the gifting market, but competition could intensify as\n",
    "traditional retailers expand their digital, online and app-based sales capabilities and potential new competitors enter the gifting market. The Group could\n",
    "face an increase in online competition as a result of competitors prioritising investments in new or improved online platforms to deal with disruptions faced\n",
    "as a result of the novel strain of coronavirus causing Covid-19 disease (“ Covid-19 ”) and the expected continued shift to online purchasing, which may\n",
    "make it more difficult for the Group to maintain its market share. The Group competes, and could increasingly compete in the future, with alternatives or\n",
    "substitutes to the Group’s products, whether that is the increasing use of electronic gift cards as substitutes for physical gifts, social media or other\n",
    "companies that host and enable the posting of greetings, images, electronic or other gifts, e-cards or other innovations and developments. In addition, the\n",
    "Group competes and may increasingly compete in the future with alternative business models that serve the gifting markets, including greeting card\n",
    "subscription services, flower subscription services, or apps or websites that provide free products (only charging for any up-sells of attachments to the free\n",
    "base product) that compete or may serve as a substitute to the Group’s gifting products. If such alternative communications media or substitutions for the\n",
    "Group’s products appeal more to the Group’s existing customers or potential customers and the Group fails to innovate its product offering in a manner that\n",
    "continues to be attractive to its customers or enables the Group to maintain its existing margins, the Group may be unable to compete effectively. If the\n",
    "Group is not able to compete effectively against its current or potential competitors, this could have a material adverse effect on the Group’s business,\n",
    "results of operations, financial condition or prospects.''']"
   ]
  },
  {
   "cell_type": "code",
   "execution_count": 11,
   "id": "b1b33cdf",
   "metadata": {},
   "outputs": [],
   "source": [
    "batch = tokenizer.prepare_seq2seq_batch(text, truncation=True, padding='longest',return_tensors='pt')\n",
    "translated = model.generate(**batch)\n",
    "tgt_text = tokenizer.batch_decode(translated, skip_special_tokens=True)"
   ]
  },
  {
   "cell_type": "code",
   "execution_count": 12,
   "id": "bec86d81",
   "metadata": {},
   "outputs": [
    {
     "data": {
      "text/plain": [
       "['The outlook for the Group’s financial performance and prospects is negative.',\n",
       " 'Competition between the Group and its competitors in the gifting market could intensify as traditional retailers expand their digital, online and app-based sales capabilities and potential new competitors enter the gifting market.']"
      ]
     },
     "execution_count": 12,
     "metadata": {},
     "output_type": "execute_result"
    }
   ],
   "source": [
    "tgt_text"
   ]
  },
  {
   "cell_type": "code",
   "execution_count": null,
   "id": "63831579",
   "metadata": {},
   "outputs": [],
   "source": []
  }
 ],
 "metadata": {
  "kernelspec": {
   "display_name": "Python 3 (ipykernel)",
   "language": "python",
   "name": "python3"
  },
  "language_info": {
   "codemirror_mode": {
    "name": "ipython",
    "version": 3
   },
   "file_extension": ".py",
   "mimetype": "text/x-python",
   "name": "python",
   "nbconvert_exporter": "python",
   "pygments_lexer": "ipython3",
   "version": "3.9.2"
  }
 },
 "nbformat": 4,
 "nbformat_minor": 5
}
